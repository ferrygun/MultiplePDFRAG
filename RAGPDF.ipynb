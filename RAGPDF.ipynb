{
 "cells": [
  {
   "cell_type": "code",
   "execution_count": 1,
   "id": "dff54f6a",
   "metadata": {},
   "outputs": [],
   "source": [
    "from io import BytesIO\n",
    "import pypdfium2 as pdfium\n",
    "import backoff\n",
    "import asyncio\n",
    "import json\n",
    "import os\n",
    "import base64\n",
    "import uuid\n",
    "import pandas as pd\n",
    "from PIL import Image\n",
    "from IPython.display import Image, display\n",
    "\n",
    "from openai import OpenAIError\n",
    "from openai import AsyncOpenAI, OpenAI\n",
    "from langchain_openai import ChatOpenAI\n",
    "\n",
    "from langchain.text_splitter import CharacterTextSplitter\n",
    "from langchain_openai import OpenAIEmbeddings\n",
    "from langchain_community.document_loaders import TextLoader\n",
    "from langchain_community.vectorstores import FAISS\n",
    "from langchain_core.documents import Document\n",
    "from langchain_core.prompts import PromptTemplate\n",
    "from langchain_core.output_parsers import StrOutputParser, JsonOutputParser"
   ]
  },
  {
   "cell_type": "code",
   "execution_count": 2,
   "id": "d75ab2ff",
   "metadata": {},
   "outputs": [],
   "source": [
    "MODEL = \"gpt-4o-2024-08-06\"\n",
    "baseurl = \"\"\n",
    "apikey = \"\"\n",
    "\n",
    "#client  = OpenAI(api_key=apikey, base_url=baseurl)\n",
    "clienta = AsyncOpenAI(api_key=apikey,  base_url=baseurl)\n",
    "os.environ[\"OPENAI_API_BASE\"] = baseurl\n",
    "os.environ[\"OPENAI_API_KEY\"] = apikey"
   ]
  },
  {
   "cell_type": "code",
   "execution_count": 3,
   "id": "5ade2e23",
   "metadata": {},
   "outputs": [],
   "source": [
    "",
    "\n",
    "@backoff.on_exception(backoff.expo, OpenAIError)\n",
    "async def parse_page_with_gpt(base64_image: str) -> str:\n",
    "    messages=[\n",
    "        {\n",
    "            \"role\": \"system\",\n",
    "            \"content\": \"\"\"\n",
    "            \n",
    "            You are a helpful assistant that extracts information from images into text. \n",
    "            Do not answer with any additional explanations like \"Sure, here is the extracted text\"\n",
    "                  \n",
    "            \"\"\"\n",
    "        },\n",
    "        {\n",
    "            \"role\": \"user\",\n",
    "            \"content\": [\n",
    "                {\"type\": \"text\", \"text\": \"Extract information from this document\"},\n",
    "                {\n",
    "                    \"type\": \"image_url\",\n",
    "                    \"image_url\": {\n",
    "                        \"url\": f\"data:image/jpeg;base64,{base64_image}\",\n",
    "                        \"detail\": \"auto\"\n",
    "                    },\n",
    "                },\n",
    "            ],\n",
    "        }\n",
    "    ]\n",
    "    response = await clienta.chat.completions.create(\n",
    "        model=MODEL,\n",
    "        messages=messages,\n",
    "        temperature=0,\n",
    "        max_tokens=4096,\n",
    "    )\n",
    "    return response.choices[0].message.content or \"\""
   ]
  },
  {
   "cell_type": "code",
   "execution_count": 4,
   "id": "0bae88c2",
   "metadata": {},
   "outputs": [],
   "source": [
    "async def document_analysis(filename: str) -> str:\n",
    "    \"\"\"\n",
    "    Document Understanding\n",
    "\n",
    "    Args:\n",
    "        filename: pdf filename str\n",
    "    \"\"\"\n",
    "\n",
    "    pdf = pdfium.PdfDocument(filename)\n",
    "    images = []\n",
    "    for i in range(len(pdf)):\n",
    "        page = pdf[i]\n",
    "        image = page.render(scale=4).to_pil()\n",
    "        buffered = BytesIO()\n",
    "        image.save(buffered, format=\"JPEG\")\n",
    "        img_byte = buffered.getvalue()\n",
    "        img_base64 = base64.b64encode(img_byte).decode(\"utf-8\")\n",
    "        images.append(img_base64)\n",
    "\n",
    "    text_of_pages = await asyncio.gather(*[parse_page_with_gpt(image) for image in images])\n",
    "    \n",
    "    results = []\n",
    "\n",
    "    extracted_texts = [doc for doc in text_of_pages]\n",
    "\n",
    "    for text in extracted_texts:\n",
    "        cleaned_content_json = text.strip('```plaintext\\n').strip('')\n",
    "        results.append(cleaned_content_json)\n",
    "        \n",
    "    return results"
   ]
  },
  {
   "cell_type": "code",
   "execution_count": 5,
   "id": "af347f08",
   "metadata": {},
   "outputs": [],
   "source": [
    "# display documents in vstore\n",
    "def show_vstore(store):\n",
    "    vector_df = store_to_df(store)\n",
    "    display(vector_df)\n",
    "    \n",
    "# convert vector store into df to convenient_access\n",
    "def store_to_df(store):\n",
    "    v_dict = store.docstore._dict\n",
    "    data_rows = []\n",
    "    for k in v_dict.keys():\n",
    "        doc_name = v_dict[k].metadata['source'].split('/')[-1]\n",
    "        content = v_dict[k].page_content\n",
    "        data_rows.append({\"chunk_id\": k, \"document\": doc_name, \"content\": content})\n",
    "    vector_df = pd.DataFrame(data_rows)\n",
    "    return vector_df\n",
    "\n",
    "# add document to vector store\n",
    "def add_to_vector_store(file, store):\n",
    "    loader = TextLoader(file)\n",
    "    documents = loader.load()\n",
    "    \n",
    "    chunk_size=1000\n",
    "    chunk_overlap=500\n",
    "    \n",
    "    text_splitter = CharacterTextSplitter(\n",
    "        chunk_size=chunk_size, chunk_overlap=chunk_overlap, length_function=len\n",
    "    )\n",
    "    texts = text_splitter.split_documents(documents)\n",
    "    \n",
    "    embeddings = OpenAIEmbeddings()\n",
    "    extension = FAISS.from_documents(texts, embeddings)\n",
    "    store.merge_from(extension)\n",
    "\n",
    "# delete document from vector store  \n",
    "def delete_document(store, document):\n",
    "    vector_df = store_to_df(store)\n",
    "    chunk_lists = vector_df.loc[vector_df['document']==document]['chunk_id'].tolist()\n",
    "    store.delete(chunk_lists)"
   ]
  },
  {
   "cell_type": "code",
   "execution_count": 6,
   "id": "92a68d39",
   "metadata": {},
   "outputs": [],
   "source": [
    "document = Document(\n",
    "    page_content=\"\",\n",
    "    metadata={\"source\": \"\"},\n",
    ")\n",
    "documents = [document]\n",
    "embeddings = OpenAIEmbeddings()\n",
    "vectorstore = FAISS.from_documents(documents, embeddings)"
   ]
  },
  {
   "cell_type": "code",
   "execution_count": 7,
   "id": "b2711c6a",
   "metadata": {},
   "outputs": [
    {
     "data": {
      "text/html": [
       "<div>\n",
       "<style scoped>\n",
       "    .dataframe tbody tr th:only-of-type {\n",
       "        vertical-align: middle;\n",
       "    }\n",
       "\n",
       "    .dataframe tbody tr th {\n",
       "        vertical-align: top;\n",
       "    }\n",
       "\n",
       "    .dataframe thead th {\n",
       "        text-align: right;\n",
       "    }\n",
       "</style>\n",
       "<table border=\"1\" class=\"dataframe\">\n",
       "  <thead>\n",
       "    <tr style=\"text-align: right;\">\n",
       "      <th></th>\n",
       "      <th>chunk_id</th>\n",
       "      <th>document</th>\n",
       "      <th>content</th>\n",
       "    </tr>\n",
       "  </thead>\n",
       "  <tbody>\n",
       "    <tr>\n",
       "      <th>0</th>\n",
       "      <td>cb118d4a-b0b6-481b-bf3d-7aeae316881f</td>\n",
       "      <td></td>\n",
       "      <td></td>\n",
       "    </tr>\n",
       "  </tbody>\n",
       "</table>\n",
       "</div>"
      ],
      "text/plain": [
       "                               chunk_id document content\n",
       "0  cb118d4a-b0b6-481b-bf3d-7aeae316881f                 "
      ]
     },
     "metadata": {},
     "output_type": "display_data"
    }
   ],
   "source": [
    "show_vstore(vectorstore)"
   ]
  },
  {
   "cell_type": "code",
   "execution_count": 8,
   "id": "1c1d45b9",
   "metadata": {
    "scrolled": false
   },
   "outputs": [],
   "source": [
    "# Add first PDF document\n",
    "docs_list = await document_analysis(\"workato.pdf\")"
   ]
  },
  {
   "cell_type": "code",
   "execution_count": 9,
   "id": "5b19ec32",
   "metadata": {},
   "outputs": [
    {
     "data": {
      "text/plain": [
       "['Workato with UserEvidence\\n\\nBehind the AI Hype\\n\\nThe 2024 State of LLMs in Business Processes',\n",
       " \"Contents\\n\\n01 Overview  \\n02 Top Findings  \\n03 Chapter 1: What's Driving AI Adoption  \\n05 Chapter 2: Activating LLMs in Business Processes  \\n10 Chapter 3: The Outcomes of Generative AI in Business Processes  \\n15 Chapter 4: Governance of AI in Business Processes  \\n18 Chapter 5: The Role of People in a World of Autonomous AI and Agents  \\n23 Chapter 6: AI Agents & The Future of Business Processes  \\n28 Conclusion  \\n29 Methodology & Demographics  \\n32 About UserEvidence  \",\n",
       " 'Overview\\n\\nMarket sentiment about generative AI has entered a new era. Early hype is fading. Business leaders have a clearer view of its strengths and challenges.\\n\\nMajor press, such as the Wall Street Journal, The Economist, and others have wondered if the AI hype over-promised and under-delivered. But very few have considered a key value driver for companies: Business processes and operations. As legendary business thinker Tom Davenport wrote in HBR: “Most AI applications to date seek to improve a given task. But this is missing the larger picture; smart companies are viewing the introduction of AI as the rationale for a new look at end-to-end processes.”\\n\\nSeveral firms, such as McDonalds, Air Canada, and IBM have experienced high profile failures with early generative AI projects. Conventional wisdom says gen AI issues are model challenges: Ways that large language models (LLMs) need improvement. However, McKinsey notes that it is “important to recognize that the model itself makes up only 15 percent of the success [of an AI project].” There is much more to an AI strategy than training data, model weights, and prompt engineering.\\n\\nTo create consistent business value with AI, companies must also address process challenges. These include: How gen AI is activated in business processes. How AI accesses the latest data. How AI risks are governed, and how human oversight & accountability is managed.\\n\\nWith independent market research from UserEvidence, we set out to understand the impact of generative AI on business processes and operations. We surveyed 1,000+ business leaders, directors and above. Participants include every department in companies of every size.\\n\\nThe survey shows that, despite changing market sentiment:\\n\\n- Business leaders believe the hype: 82% believe genAI is the next wave of transformation in their industry.\\n- The real results are in business processes: 89% report real, measurable results from genAI in business processes.\\n- AI momentum is immune to the vibe shift: Competitors are the #1 driver. Market sentiment is only one of several drivers of AI adoption.',\n",
       " 'Top Findings\\n\\nBusiness processes = big value with AI.\\n- Over 35% have achieved revenue growth, business agility, or better decision making.\\n\\nEarly adopters are winning.\\n- Early adopters are nearly 2x more likely to report increased agility, enhanced decision making, and innovation, and 4x less likely to report no measurable results.\\n\\nAPIs & RAG drive better results.\\n- LLM approaches like retrieval-augmented generation (RAG) and AI activation approaches like API-first approaches have better performance.\\n\\nGovernance and human oversight matter. A lot.\\n- Governance is the #1 requirement to improve trust in AI, and 95% say human oversight is important.\\n\\nMore AI = more demand for human intelligence.\\n- Business leaders believe expert reviewers - rather than front-line or entry-level employees - should sign off on AI-generated content & decisions - meaning artificial intelligence increases demand for human intelligence.\\n\\nAPIs are the top approach to activate AI in processes.\\n- APIs are the #1 preference to activate AI in processes in the future.\\n\\nGen AI SaaS features are not a long term AI strategy.\\n- Just over 13% of business leaders believe SaaS AI features are their best AI strategy moving forward.',\n",
       " '**Chapter 1: What’s Driving AI Adoption**\\n\\n**Key Takeaways:**\\n- Many factors drive AI\\n- Pressure on departments is uneven\\n- IT is under the most pressure\\n\\nBusiness leaders hear the call to use generative AI in their processes loud and clear - 71% feel pressure to implement generative AI in their processes. The most common sources of that pressure come from outside the company. The number one source of pressure is the competition.\\n\\n**Competitors are the top driver of AI adoption.**\\n\\nWhile market sentiment on generative AI is evolving, business leaders are also responding to other sources of pressure, including competitors, external peers, analysts, internal peers, and board members.\\n\\n**Figure 1.1: What do you believe is a source of pressure (if any) to use Gen AI in your processes (select all that apply)**\\n\\n- **External Source:**\\n  - Competitors: 45%\\n  - Market Sentiment: 33%\\n  - External Peers: 31%\\n  - Analysts: 25%\\n\\n- **Internal Source:**\\n  - Internal Peers: 31%\\n  - Board Members: 39%\\n  - Internal CXOs: 21%\\n  - No Pressure at All: 16%',\n",
       " '“What happens when I have human-level intelligence, for pennies on demand, accessible 24 hours, 7 days a week, 365 days a year? How does that change all the things that we do? And then the next leap from that is, how does it change what our competitors can do? That’s when the real fire gets started. Because you start saying, ‘Gee, if I can do this, you know, the folks that I meet in the marketplace every day, who are going for those same customers, can also do this.’”\\n\\nTED SHELTON, COO, INFLECTION AI (PREVIOUSLY THE AI EXPERT PARTNER AT BAIN & COMPANY)\\n\\nThe pressure is not felt evenly across departments. It is being felt more acutely by IT, Finance, and HR, and less so by Sales, Marketing, and Operations (Figure 1.2).\\n\\nIT, Finance, and HR are under more pressure.\\n\\nFIGURE 1.2: WHICH WORD DESCRIBES THE PRESSURE YOU FEEL TO USE GENERATIVE AI IN YOUR PROCESSES? (COHORTS FROM FIGURE 0.1)\\n\\nIT: 9% Overwhelming, 44% Strong, 32% Moderate, 8% Mild, 8% None  \\nFINANCE: 11% Overwhelming, 30% Strong, 25% Moderate, 18% Mild, 16% None  \\nHR: 8% Overwhelming, 35% Strong, 25% Moderate, 13% Mild, 18% None  \\nSALES & MARKETING: 4% Overwhelming, 22% Strong, 41% Moderate, 16% Mild, 17% None  \\nOPS: 3% Overwhelming, 22% Strong, 29% Moderate, 26% Mild, 19% None\\n\\nAs business leaders face increasing pressure to adopt AI due to competitive forces, market expectations, and more, they are taking action. The following chapter explores the methods leaders are employing to activate AI in their operations, to transform these pressures into outcomes.\\n\\n04',\n",
       " '**Chapter 2: Activating LLMs in Business Processes**\\n\\n**Key Takeaways:**\\n- Foundational LLMs have an early lead\\n- SaaS features have a bleak forecast\\n- APIs are the top approach\\n\\n**Overview:**\\n\"Activating generative AI in a business process\" or \"AI-powered processes\" involves the consistent use of AI in business operations like order to cash, customer onboarding, and lead generation. This can include prompts and output steps in workflows, AI-reimagined processes, or agents executing processes autonomously.\\n\\n**Business Leaders\\' Choices:**\\n- **What** approach to take with large language models (LLMs): build from scratch, buy, or partner with a vendor.\\n- **How** to activate AI: manual prompt entry, API call, or agent.\\n- **Where** to apply it in the organization.\\n\\n**Top Approaches to LLMs:**\\n- Popularity of OpenAI\\'s ChatGPT leads business leaders to rely on industry giants.\\n- Over two-thirds (68%) use a foundational LLM like OpenAI GPT, Google Gemini, or Anthropic Claude.\\n\\n**Figure 2.1: LLM Approaches in Processes**\\n- Custom LLM\\n- Foundational LLM\\n- RAG\\n- SaaS AI Features\\n\\nPage 05',\n",
       " 'While nearly a third are building their own LLM, a majority (67%) are using foundational models with no modifications. 38% are customizing a foundational model with retrieval-augmented generation (RAG).\\n\\n\"Gen AI is so successful compared to previous AI approaches because it’s easy to start with. Foundational LLMs are good enough for many things, making them easy to adopt and appealing.\"\\n— Markus Zirn, Chief Strategy Officer, Workato\\n\\nNearly every SaaS vendor became an AI vendor overnight by adding generative AI features to their products. 42% of business leaders are using a SaaS app with an AI feature (Figure 2.1). However, when asked about the future, business leaders’ opinion differs from their current strategy. Business leaders do not view SaaS features as their long-term AI strategy, with just over 13% selecting this option as their best path forward (Figure 2.2).\\n\\nOnly 13% see SaaS features as their long-term AI strategy.\\n\\n68% of companies (Figure 2.1) are using foundational models today, which are trained on the entire internet. However, this number drops by half when asked if it is the best approach in the future (Figure 2.2). This likely reflects a belief that models custom trained on domain expertise (such as customer support agent conversations, or IT helpdesk tickets) will be more effective. 35% of business leaders believe customized and specialized LLMs will offer the best path forward.\\n\\nFigure 2.2: Which strategy do you believe will be most effective for the future? (Select one)\\n\\n- Unsure: 12%\\n- SaaS Features: 14%\\n- RAG: 8%\\n- Foundational LLM: 32%\\n- Custom LLM: 15%\\n- Specialized LLM: 19%',\n",
       " 'While retrieval-augmented generation (RAG) is used in over 38% of use cases today, only 8% believe it is the best strategy for the future (Figure 2.3). This is unusual. RAG is used to inform AI output with the most up-to-date context. Figure 3.3 later in this report shows RAG drives better outcomes, such as enhanced decision making. It is likely that participants believe a custom or specialized LLM in the future will be able to harness the latest context without the need for RAG. Or, when forced to choose between the two, they value a customized LLM more highly even if they still plan to use RAG in the future.\\n\\nHow will AI be activated\\n\\nThere are many ways to activate generative AI in a business process. Examples might include an employee manually prompting a model such as ChatGPT, custom code interacting with the model via API, or a robotic process automation bot pasting an output into a UI text field.\\n\\n48% believe APIs are best\\n\\n13% believe SaaS features are best\\n\\n5.7% believe RPA is best\\n\\nThe data shows that the top preference of business leaders is for API-based activation of generative AI, with over 48% saying they believe the best way to activate AI is by API-driven methods, such as custom code, an integration platform, or a specialized AI orchestration tool (Figure 2.3). Later in this report, we will see that this preference is correlated with higher performance (Figure 3.4).\\n\\nFigure 2.3: In the future, which method to use generative AI in business processes do you believe will be best for your organization?\\n\\n- 29% Manual via chat\\n- 22% Other\\n- 13% SaaS AI features\\n- 6% RPA\\n- 18% Custom code via API\\n- 21% Integration/automation platform via API\\n- 9% Specialized AI orchestration via API\\n- 48% Via API',\n",
       " 'While many selected manual chat, this can either mean interacting directly with an LLM such as ChatGPT, or it can mean interacting with technology via natural language.\\n\\nNotably, the AI forecast for robotic process automation (RPA) for AI-powered processes is bleak, with only 5.7% selecting it as the best approach for activating AI in the future (Figure 2.3).\\n\\nWhere is gen AI being used in business processes\\n\\n“You can imagine dozens of use cases in HR, sales, productivity, supply chain. The list goes on and on. LLMs can make a huge difference in efficiency and productivity.”\\n\\nRAMA AKKIRAJU, VP OF AI AND ML FOR IT, NVIDIA\\n\\nProcesses in IT, customer service, operations, sales and marketing are the top early adopters of generative AI. Within the next six months, the priorities of IT and customer service shrink slightly, and HR and Finance grow, although the overall ranking remains largely the same. The pressure on HR and Finance noted in Figure 1.2 may provide some indication as to why.\\n\\nFIGURE 2.4: IN WHICH DEPARTMENTS IS GENERATIVE AI BEING USED IN PROCESSES, AND WHICH ARE PLANNED WITHIN 6 MONTHS (SELECT ALL THAT APPLY)\\n\\nConsistently (and not surprisingly) the data shows IT as the most enthusiastic early adopters of AI in business processes. CIOs are under extraordinary pressure to deliver on their organization’s AI strategy. It is also possible that IT processes represent the lowest hanging fruit, and CS, sales, and marketing bring more urgency since they are directly tied to revenue. On the other hand, Finance and HR processes may be more complex, or take longer to deliver results, leading business leaders to postpone them (Figure 2.4).\\n\\n08',\n",
       " '**Only 23% consider AI to be fully deployed in a business process**\\n\\nHowever, the maturity of the AI implementations varies. Less than a quarter of participants (23%) said AI is fully deployed in a business process. As we\\'ll see later in the report, the level of maturity has an extraordinary impact on the outcomes.\\n\\n**Figure 2.5: If generative AI is being used in your business processes, to what degree would you describe its use?**\\n\\n- Fully Deployed: 23%\\n- In Development: 42%\\n- Experimental: 24%\\n- No Use: 11%\\n\\nThe maturity of deployment varies on a department level. IT and HR appear to have made the most progress. Finance and Sales & Marketing have the least deployed and the most experimentation.\\n\\n**Quote:**\\n\"I haven’t seen many organizations put together an enterprise-wide AI strategy. Most of them are still experimenting with AI tactically or opportunistically.\"\\n- Massimo Pezzini, Head of Research, Future of the Enterprise, Workato\\n\\n**Figure 2.6: If generative AI is being used in your business processes, to what degree would you describe its use? (Cohorts from Figure 0.1)**\\n\\n- **IT:**\\n  - Fully Deployed: 30%\\n  - In Development: 43%\\n  - Experimental: 24%\\n  - No Use: 3%\\n\\n- **HR:**\\n  - Fully Deployed: 33%\\n  - In Development: 39%\\n  - Experimental: 19%\\n  - No Use: 9%\\n\\n- **Ops:**\\n  - Fully Deployed: 22%\\n  - In Development: 39%\\n  - Experimental: 24%\\n  - No Use: 14%\\n\\n- **Finance:**\\n  - Fully Deployed: 16%\\n  - In Development: 46%\\n  - Experimental: 23%\\n  - No Use: 15%\\n\\n- **Sales & Marketing:**\\n  - Fully Deployed: 17%\\n  - In Development: 46%\\n  - Experimental: 20%\\n  - No Use: 17%',\n",
       " 'CHAPTER 3:  \\nThe Outcomes of Generative AI in Business Processes\\n\\nEven in such early stages of implementation, 89% of survey participants are reporting measurable results from implementing AI in their business processes (Figure 3.1).\\n\\n62% cited increased efficiency, the most popular response by nearly 20 points. The second ranked outcome overlaps with efficiency (cost reduction), at 43%.\\n\\nSurprisingly, business leaders are also signaling that AI in business processes is leading to more powerful outcomes with long-term, compounding impacts, including:\\n\\n- 43% have achieved improved business agility.\\n- Nearly 40% are seeing enhanced decision making.\\n- 31% selected faster innovation cycles.\\n\\nThese long term impacts are associated with competitive advantages that compound over time, allowing them to capture unfair shares of the markets they compete in.\\n\\n“Most AI applications to date seek to improve a given task. But this is missing the larger picture; smart companies are viewing the introduction of AI as the rationale for a new look at end-to-end processes.”\\nTOM DAVENPORT, PROFESSOR AND BESTSELLING AUTHOR OF PROCESS INNOVATION: REENGINEERING WORK WITH INFORMATION TECHNOLOGY\\n\\nKEY TAKEAWAYS\\n- Processes offer big value\\n- Efficiency is table stakes\\n- Strategy affects outcomes',\n",
       " '**Figure 3.1: What measurable results have you observed with generative AI in your business processes? (Select all that apply)**\\n\\n- No measurable results: 11%\\n- Faster innovation cycles: 31%\\n- Employee satisfaction: 32%\\n- Revenue growth: 36%\\n- Enhanced decision making: 39%\\n- Customer satisfaction: 40%\\n- Improved agility: 43%\\n- Cost reduction: 43%\\n- Increased efficiency: 62%\\n\\n**Figure 3.2: Measurable AI results by department**\\n\\n- IT is leading in driving agility, decision-making, and innovation with AI.\\n- HR has the highest increase in innovation cycles.\\n- Sales and marketing experience less benefit, except for increased efficiency.',\n",
       " 'LLM approaches and activation strategies drive unique outcomes\\n\\nOften, the choice of which LLM approach companies make is based on resources, leadership buy-in on the AI strategy, and skill. But the data shows that each approach has different strategic implications (Figure 3.3).\\n\\nIf, rather than efficiency, you prioritize revenue growth, enhanced decision making, and improved agility, customizing a foundational LLM with retrieval-augmented generation (RAG) is the clear choice. The improvement in enhanced decision making is quite striking, in some cases 2x higher than the other choices.\\n\\nSaaS Features & Specialized LLMs are 2x more likely to report no outcomes\\n\\nRAG is nearly 2x more likely to drive enhanced decision making, agility, and revenue growth\\n\\nIf average but reliable performance is the goal, a foundational LLM alone is a strong choice. It is worth noting that participants relying on foundational LLMs are the least likely to report no measurable results from their AI strategy.\\n\\nThe data seems to also indicate that - at this stage in generative AI technology - custom LLMs and AI features of SaaS applications are lower performing options for business processes.\\n\\nFigure 3.3: Measurable AI Results by LLM Strategy\\n\\nGraph shows percentages for:\\n- No Measurable Results\\n- Employee Satisfaction\\n- Customer Satisfaction\\n- Faster Innovation Cycles\\n- Improved Agility\\n- Revenue Growth\\n- Enhanced Decision Making\\n- Cost Reduction\\n- Increased Efficiency\\n\\nCategories: SaaS Features, Specialized LLM, Foundational LLM, RAG\\n\\nPage 12',\n",
       " 'In addition, how the LLM is activated in the business process also dictates outcomes in a significant way. In chapter 2 (Figure 2.3) we saw that business leaders have a strong preference to bring LLMs into their processes with APIs. That preference may be in part due to the performance benefits - business leaders report markedly superior outcomes across the board when using APIs, and were far less likely to report no measurable results (Figure 3.4).\\n\\nFIGURE 3.4: MEASURABLE RESULTS BY AI ACTIVATION APPROACH\\n\\nEarly adopters of AI in operations have the upper hand\\n\\nIf generative AI is going to live up to the hype, then companies that have fully deployed AI in business processes should see better results than those who are in deployment or experimenting with the technology.\\n\\nThat’s exactly what the data shows. Early adopters of AI in business processes are jumping into the lead.\\n\\nCompanies still just experimenting with AI are 4x more likely to say that they have achieved no results, whereas early adopters are nearly 2x more likely to report increased agility, enhanced decision making, faster innovation. These categories have compounding, exponential results down the road - meaning that these early adopters are outperforming their competitors today, and building competitive advantages for the future.\\n\\n13',\n",
       " 'This explains why, in Figure 1.1, competitors are the biggest driving force behind AI adoption. Business leaders realize that this performance gap will create a new class of business winners and losers long term.\\n\\nFIGURE 3.5: MEASURABLE OUTCOMES BY AI IMPLEMENTATION MATURITY\\n\\nThe chart shows that those experimenting with AI in their operations are falling behind those who have fully deployed a solution. However - even the experimenters are gaining serious ground on the 11% of business leaders who have not yet begun using AI in their processes.\\n\\nBut generative AI is not a magic pill without side effects - in fact, as several high profile failures of generative AI projects illustrate, there is a strong need for governance and human oversight. Generative AI models can hallucinate, they can demonstrate bias, and they can make mistakes. In the next two chapters, we explore these crucial topics.',\n",
       " '**Chapter 4: Governance of AI in Business Processes**\\n\\nAI presents an incredible opportunity, but without the right guardrails, it can create risk. Without governance, LLM-powered business processes can expose sensitive data, confidently make poor decisions, and hallucinate.\\n\\nThe survey data shows that business leaders are embracing AI with eyes wide open. Trust in LLMs is mixed - when asked how reliable and consistent outputs are from generative AI, only a third (31%) rated LLMs as “very accurate.” When asked what would improve their trust in LLMs in their business processes, the number one answer was strong governance. In fact, 90+% of participants say governance is important for gen AI in their business processes.\\n\\n**Key Takeaways:**\\n- Governance is the #1 priority\\n- Data security & privacy are top concerns\\n\\n**Figure 4.1: What would improve your trust in generative AI to operate autonomously in your organization? (Select all that apply)**\\n- Strong Governance: 55%\\n- More Advanced LLMs: 46%\\n- Low Risk Use Cases: 46%\\n- Better Prompt Engineering: 39%\\n- Unsure: 7%\\n- Nothing: 6%\\n\\n**Figure 4.2: How important is governance with generative AI in organizations?**\\n- Very Important: 66%\\n- Important: 24%\\n- Unimportant: 4%\\n- Very Unimportant: 2%\\n\\nNotably - for all of the research on improving model performance, such as better data, context, and more - strong governance outranks more advanced LLMs in the minds of business leaders.',\n",
       " 'The reasons why became evident when we asked them what their top concerns are with AI in their processes. By a wide margin, governance challenges of security and privacy outrank model performance concerns such as hallucinations, loss of control and replacement (decisioning), bias, and more (Figure 4.3).\\n\\nFIGURE 4.3: WHICH GENERATIVE AI TOPIC DO YOU CONSIDER CONCERNING OR WORRISOME?\\n\\n- Security\\n- Data Privacy\\n- Hallucinations\\n- Loss of Control\\n- Replacement\\n- Bias\\n- Brand Reputation\\n- Other\\n- Cost\\n\\nIt is also important to note that, although LLM costs have been making headlines, cost ranked lowest on the list of business leader concerns. For the moment, the costs of generative AI are being subsidized by LLM vendors and their investors - this data point may change if AI vendors begin to prioritize profitability in their business models.\\n\\nWhile all departments share similar feelings about the top three concerns, a few departments have strong opinions about select areas (Figure 4.4).\\n\\n- HR, Finance, and IT Operations, who are responsible for much of the most sensitive data in the company (PII, Salary, etc), are more concerned about security and data privacy.\\n- Sales and marketing, who own the messaging to customers and prospects, are more concerned about hallucinations.',\n",
       " '**Figure 4.4: Top 3 AI Concerns by Department**\\n\\n- **Security**\\n  - IT: 3.5%\\n  - Finance: 3.2%\\n  - Ops: 3.0%\\n  - HR: 2.8%\\n  - Sales & Marketing: 2.5%\\n\\n- **Data Privacy**\\n  - IT: 3.0%\\n  - Finance: 2.8%\\n  - Ops: 2.5%\\n  - HR: 2.3%\\n  - Sales & Marketing: 2.0%\\n\\n- **Hallucinations**\\n  - IT: 1.5%\\n  - Finance: 1.2%\\n  - Ops: 1.0%\\n  - HR: 0.8%\\n  - Sales & Marketing: 0.5%\\n\\n**Figure 4.5: Which Types of Generative AI Governance Are You Prioritizing?**\\n\\n- Data Privacy & Protection: 75%\\n- Ethical Guidelines: 59%\\n- Access Controls: 53%\\n- Auditing & Usage Logs: 47%\\n- Monitoring & Oversight: 46%\\n- Other: 1%\\n\\n**Text:**\\n\\nAI governance isn’t just a protective measure for organizations. It’s a proactive strategy to enable employees to use the technology more effectively, from upholding the privacy of proprietary data to establishing ethical standards to prevent reputational fallout. When we asked participants which areas of governance they are prioritizing, security practices such as data privacy and protection comes out on top (75%), followed by ethical guidelines and practices (59%), and access controls (53%) (Figure 4.5).\\n\\nWith AI governance in place to guide ethical, safe, and responsible use, human oversight is essential to keep AI decisions aligned with company goals. In the next chapter, we’ll look at how people help monitor and steer AI to ensure it works as intended.\\n\\nPage 17',\n",
       " '**Chapter 5: The Role of People in a World of Autonomous AI and Agents**\\n\\n**Key Takeaways:**\\n- People have a big role in an AI world\\n- Human expertise will grow in value\\n- Leaders balance autonomy and oversight\\n\\nAs mentioned in the previous chapter, business leaders have misgivings about generative AI hallucinating the wrong answer. When asked about the reliability and consistency of Gen AI model outputs, 47% say outputs are “somewhat accurate,” and only 31% say very accurate (Figure 5.1).\\n\\n**Figure 5.1: In your opinion, how reliable and consistent are the outputs from the current Gen AI models?**\\n- Very Inaccurate: 3%\\n- Unsure: 6%\\n- Somewhat Inaccurate: 14%\\n- Somewhat Accurate: 46%\\n- Very Accurate: 31%\\n\\nIn a business process, how much inaccuracy is acceptable? How often should a person step in to review, revise, and approve AI decisions and content?\\n\\nIn February 2024, Air Canada refused to honor a refund offer hallucinated by the airline’s AI chatbot. If an employee had been in the loop to review any offers the chatbot made, the airline might have avoided the resulting lawsuit and reputation damage after the lawsuit made international headlines.',\n",
       " 'When asked how they felt about human review - participants shared an overwhelming mandate - 94% said that human oversight and approvals of generative AI outputs are important (Figure 4.2), and 95% believe that human oversight and approvals are important when working with autonomous AI agents (Figure 5.2).\\n\\nFIGURE 5.2: IN YOUR OPINION, HOW IMPORTANT IS HUMAN OVERSIGHT AND APPROVALS OF GENERATIVE AI OUTPUTS?\\n\\n- Very Important: 69%\\n- Important: 25%\\n- Unimportant: 3%\\n- Very Unimportant: 1%\\n\\nFIGURE 5.3: WHEN WORKING WITH AI AGENTS, IN YOUR OPINION HOW IMPORTANT ARE HUMAN OVERSIGHT AND APPROVALS (HUMAN IN THE LOOP)?\\n\\n- Very Important: 66%\\n- Important: 29%\\n- Unimportant: 3%\\n- Very Unimportant: 2%\\n\\n\"AI has some challenges. It can be wrong, it can hallucinate, it can use copyrighted materials, it can be biased.\\n\\nThe antidote is to put a human in the loop. If we are thinking of collaborative AI, and thriving with AI, the human in the loop becomes a necessary part of that equation. Then, the human takes on responsibility for the tool.\\n\\nI often talk about the wielder of a hammer. Did the hammer break the glass, or did the person who wielded the hammer? It becomes the responsibility of the wielder of the tool to ensure that that tool is used in the most effective way possible. That’s why a human must be in the loop to take the maximum advantage and keep AI responsible.\\n\\nIf you can do that, keep the human in the loop, then I think we can unleash the full power of AI.\\n\\nEARL NEWSOME, CIO, CUMMINS INC.\"',\n",
       " 'Is it a total rejection of autonomous AI if 95% of business leaders believe humans in the loop are important? No. Nearly 60% of business leaders are comfortable with autonomous AI decisions and content sent to customers (Figures 5.4 and 5.5).\\n\\n**Figure 5.4: How comfortable are you with generative AI sending content and messages autonomously to customers with no human revisions and approvals?**\\n\\n- Very Comfortable: 29%\\n- Somewhat Comfortable: 29%\\n- Somewhat Uncomfortable: 19%\\n- Very Uncomfortable: 22%\\n\\n**Figure 5.5: How comfortable are you for generative AI to make decisions autonomously, with no human oversight and approvals in your organization?**\\n\\n- Very Comfortable: 32%\\n- Somewhat Comfortable: 25%\\n- Somewhat Uncomfortable: 19%\\n- Very Uncomfortable: 23%\\n\\nIn practice, how comfortable business leaders will be with autonomous AI will likely depend on a case-by-case basis. The level of trivial vs. sensitive content, and low-level operational vs. strategic decisions will influence how often AI is let loose with minimal human oversight.\\n\\n\"We are firm believers, particularly with generative AI, that the human is in the loop. You need to make sure that you make the decisions...You may have a situation where generative AI makes up answers, or hallucinates.\\n\\nIf you think about generative AI to generate some artwork. Well, art is in the eye of the beholder. That\\'s probably okay.\\n\\nBut, in the field of hiring, for example, that\\'s not okay. If it is generating answers or selecting a match between a person and a job, and it gets it wrong, if it doesn\\'t have a way of explaining itself, that technology is not appropriate.\"\\n\\n**AL SMITH, CHIEF TECHNOLOGY OFFICER, ICIMS**',\n",
       " '90%+ of respondents say at least half of business processes should not be fully autonomous and should include humans in the loop.\\n\\n**Figure 5.6: How much of generative AI decisions require human oversight before being used in a business context?**\\n- Quarter: 8%\\n- Half: 29%\\n- Three Quarters: 28%\\n- Nearly All: 31%\\n\\nEvidence suggests that the preference for humans in the loop is about more than responsible AI. It is also correlated with better performance. Recent research by MIT and Accenture highlighted the benefits of nudging humans to review generative AI outputs. This form of human-AI augmentation led to measurably better performance:\\n\\n“The findings revealed that consciously adding some friction to the process of reviewing LLM-generated content can lead to increased accuracy—without significantly increasing the time required to complete the task. This has implications for how companies can deploy generative AI applications more responsibly.”\\n\\n**90% of business leaders believe AI should have a human in the loop for at least half of all processes**\\n\\n**Who should review?**\\n\\nLastly, who should be responsible for conducting this review and approval? Conversations about the “autonomous enterprise” have sparked fears that companies will operate like fast food restaurants: Automation and AI handle most of the work, and the company is staffed by entry-level employees.\\n\\nHowever, a recent article from Wharton researchers suggested a counterintuitive hypothesis: generative AI is going to increase demand for expertise, rather than decrease it: “One challenge when integrating LLM output with human oversight is that in many contexts, the human must know something about the domain to be able to assess whether the LLM output is valuable. This suggests that specific knowledge cannot be “outsourced” to an LLM—domain experts are still needed to evaluate whether LLM output is any good before it is put into use.”',\n",
       " \"The survey data reinforces this counterintuitive point - that generative AI in business processes will increase demand for human expertise. Overwhelmingly, business leaders believe that managers and subject matter experts should be tapped to review generative AI outputs and decisions, rather than front line or entry level employees (Figure 5.7).\\n\\nFigure 5.7: For most cases, what level of human oversight and review would you consider appropriate for GenAI?\\n\\n- Entry Level Employees: 4%\\n- Front Line Employees: 12%\\n- Managers: 37%\\n- Subject Matter Experts: 44%\\n- None: 3%\\n\\nMany are still getting used to the idea of reviewing human-like text generated by a machine. But the next wave of transformation is around the corner in the concept of AI agents. In the next chapter, we'll take a closer look at this exciting topic.\\n\\nPage 22\",\n",
       " '**Chapter 6: AI Agents & The Future of Business Processes**\\n\\nIn an article titled *Why Agents are the Next Frontier of Generative AI*, McKinsey predicts: “We are beginning an evolution from knowledge-based, gen-AI-powered tools—say, chatbots that answer questions and generate content—to gen AI-enabled “agents” that use foundation models to execute complex, multistep workflows across a digital world. In short, the technology is moving from thought to action.”\\n\\nWhether business leaders are ready or not, agentic processes are around the corner. Agentic processes are workflows that are partially or completely executed by an AI agent. Most, but not all business leaders are ready for AI agents to handle work on their behalf (Figure 6.1).\\n\\n**Figure 6.1: In the future of work, how do you feel about the ideas of AI agents completing work on your behalf?**\\n\\n- Very Uncomfortable: 13%\\n- Somewhat Uncomfortable: 20%\\n- Somewhat Comfortable: 32%\\n- Very Comfortable: 32%\\n- Unsure: 3%\\n\\nAgentic readiness varies by department. IT and Finance leaders report feeling more comfortable with the idea, whereas Sales & Marketing leaders are less comfortable (Figure 6.2). It is possible that departments like Finance and IT have been subjected to more automation over the years, leading them to be more optimistic about AI agents than others.\\n\\nPage 23',\n",
       " 'FIGURE 6.2: IN THE FUTURE OF WORK, HOW DO YOU FEEL ABOUT THE IDEAS OF AI AGENTS COMPLETING WORK ON YOUR BEHALF? (COHORT FROM FIGURE 0.1)\\n\\nIT\\n- Very Comfortable: 45%\\n- Somewhat Comfortable: 35%\\n- Somewhat Uncomfortable: 13%\\n- Very Uncomfortable: 4%\\n\\nFINANCE\\n- Very Comfortable: 38%\\n- Somewhat Comfortable: 29%\\n- Somewhat Uncomfortable: 20%\\n- Very Uncomfortable: 10%\\n\\nHR\\n- Very Comfortable: 33%\\n- Somewhat Comfortable: 36%\\n- Somewhat Uncomfortable: 16%\\n- Very Uncomfortable: 9%\\n\\nOPS\\n- Very Comfortable: 17%\\n- Somewhat Comfortable: 34%\\n- Somewhat Uncomfortable: 27%\\n- Very Uncomfortable: 18%\\n\\nSALES & MARKETING\\n- Very Comfortable: 16%\\n- Somewhat Comfortable: 31%\\n- Somewhat Uncomfortable: 29%\\n- Very Uncomfortable: 22%\\n\\nMany predict there will be armies of agents in every company, assisting every employee in their roles. They will empower employees with superhuman work capacity, leading to what SiliconAngle Research describes as “5-10x improvements in cognitive labor productivity.”\\n\\n“When we think about automation and AI, we think of it more as an augmentation tool versus something that replaces humans.”\\nDARRYL MARAJ, CIO, TBC CORPORATION',\n",
       " 'The business leaders in this survey seem to agree. When asked which agentic outcome they were most excited about - productivity and efficiency rose to the top (Figure 6.3).\\n\\n**Figure 6.3: When considering AI agents, which sounds most exciting to you?**\\n\\n- Increase Productivity: 36%\\n- Increase Efficiency: 33%\\n- Drive Innovation: 11%\\n- ROI: 9%\\n- Revenue Growth: 8%\\n- Other: 3%\\n\\n**What should today’s outcomes teach us about tomorrow’s agents?**\\n\\nAn AI agent can:\\n- Generate plans, make decisions, and take action across systems\\n- Consult employees for review and approval\\n- Collaborate with other agents to execute complex processes\\n- Learn over time to improve\\n- Operate in a responsible, governed way\\n\\nAn LLM deployed by itself is not an agent - it is just a smart chat bot, and a liability. Consider the Air Canada example that we mentioned earlier. The chat bot did not have the context it needed - so it hallucinated a refund that violated Air Canada’s own policies. And it was not empowered to take the action that it needed, so it was not able to run its decision by a human agent for approval.\\n\\nPage 25',\n",
       " 'In these early days of agentic technology, most leaders are too early in their agentic journey to report meaningful results. However, there are lessons to be learned from the results leaders are seeing by generally adding AI to their business processes. After all, these are the predecessors to the agentic future. What can they teach us?\\n\\nThe power of context\\n\\nWe can see the power of context when we look at how retrieval-augmented generation (RAG) impacts results (the charts below were originally featured in chapter 3). The RAG method allows the LLM to leverage data that would not be in its original training data, such as the latest customer data, employee data, or other. In the Air Canada example, an agent might want to access the latest refund policies, the passenger’s account data, and other available flights.\\n\\nThe value of having the latest data - which we can see in the marked performance improvement on decisioning, revenue growth, and agility - will only grow in the agentic future:\\n\\nThe Power of Context for AI Agents (Figure 3.3)\\n\\n- SaaS Features\\n- Specialized LLM\\n- Foundational LLM\\n- RAG\\n\\nGraph categories:\\n- No Measurable Results\\n- Employee Satisfaction\\n- Customer Satisfaction\\n- Faster Innovation Cycles\\n- Improved Agility\\n- Revenue Growth\\n- Enhanced Decision Making\\n- Cost Reduction\\n- Increased Efficiency\\n\\nPage 26',\n",
       " 'The ability to take action\\n\\nAs the McKinsey quote earlier in this chapter notes, agents are about AI technology “moving from thought to action.” The ability to take action across systems is paramount for agents to succeed. A sales agent would want to be able to take action across customer relationship management (CRM), a sales engagement, and sales enablement platforms.\\n\\nThe strong preference we see in today’s data for API-based usage of LLMs (Figure 2.3) and enhanced performance of LLMs in business processes for those leveraging API-based approaches (Figure 3.4) strongly suggests that agents empowered to take action across API-based connectors will outperform others.\\n\\nThe agentic gap\\n\\nEarly adopters of agentic technologies will enjoy similar benefits to the early adopters of LLMs in business processes. As we saw in chapter 3, the more mature the AI implementation, the greater the reported business value. However, the difference is that agentic technology will, as SiliconAngle reports, confer 5-10x gains in productivity upon employees. Multiplied by hundreds or thousands of employees across the company, this will undoubtedly create a major “agentic gap” between agentic and traditional companies. The agentic gap will resemble, but be far wider than the gap we see today:\\n\\nThe lesson for leaders: Ignore the agentic revolution at your peril. Despite the headlines, despite the skepticism - the evidence shows that the early adopters of generative AI in business processes are building an advantage over those who are not.',\n",
       " '**Conclusion**\\n\\nRecent reporting from the Census Bureau shows that only 4.8% of American companies use AI to produce goods and services. Many who question the hype around generative AI, including The Economist, cite this statistic. But questioning where the AI-generated products are, or why AI features aren’t driving up SaaS revenues, or other theories may be missing the point.\\n\\nAs this survey revealed - the real value, at least in these early days of generative AI innovation - is likely being felt in operations. In their business processes. Here, companies expect to gain efficiency and save costs. But the data also shows that companies are building competitive advantages - such as business agility, better decision making, and more.\\n\\nTo maximize the value of generative AI in business processes, business leaders are grappling with big strategic questions.\\n\\n- How do we activate AI in our operations?\\n- Which approach(es) do we take with LLMs?\\n- How often and when do we include humans in our AI-powered processes?\\n- What do we need to govern to make sure this innovation does not create risk?\\n\\nThe evidence is clear - despite AI doom in the press - that business leaders are driven by much more than market sentiment to explore these questions. The threat of their competitors leaping ahead in the AI arms race is enough to drive them forward. As we enter a new agentic economy, the threat of losing out on an agentic gap will only motivate them further.\\n\\nIt is up to business leaders to ensure that their organizations make the most of this disruptive moment - or risk being left behind.',\n",
       " \"Workato commissioned an independent market survey from UserEvidence of over 1,000 business leaders in North America about generative AI in their business processes. The research sample was vendor-neutral and did not target Workato or UserEvidence customers, although they were not excluded from participating.\\n\\nThe largest cohort (31%) worked within their company's technology or IT department. Respondents also worked in departments like sales & marketing (15%), finance (10%), operations (10%), and human resources (8%) as illustrated in figure 0.1.\",\n",
       " 'More than half (57%) worked at the director level, 26% said they worked at the C-suite level, and the remaining 16% said they were at the VP level.\\n\\n**Figure 0.2: What best describes your role within the company?**\\n- Director Level: 57%\\n- C-Level: 26%\\n- VP Level: 17%\\n\\nRespondents represented nearly 20 industries, but nearly half came from four key sectors: Technology, financial services, healthcare, and manufacturing.\\n\\n**Figure 0.3: What industry do you currently work in?**\\n- Technology/IT\\n- Financial Services\\n- Healthcare\\n- Manufacturing\\n- Education\\n- Professional Services\\n- Other\\n- Retail\\n- Construction\\n- Hospitality\\n- Telecommunications\\n- Government\\n- Media\\n- Transportation\\n- CPG\\n- Energy\\n- Automotive\\n- Pharma\\n- Aerospace\\n- Agriculture\\n\\nPage 30',\n",
       " 'The majority of respondents came from mid-market or enterprise companies:\\n\\n- 15% work at a company with 250-499 employees\\n- 44% work at a company with 500-2,499 employees\\n- 40% work at companies with 2,500 employees or more\\n- 20% work for companies with 5,000 employees or more\\n- Almost 15% work for companies with 10,000+ employees\\n\\nFigure 0.4: How many employees work at your company?\\n\\n- 10,000 or more: 15%\\n- 5,000-9,999: 10%\\n- 2,500-4,999: 16%\\n- 1,000-2,499: 18%\\n- 500-999: 26%\\n- 250-499: 15%',\n",
       " 'About UserEvidence\\n\\nUserEvidence is a software company and independent research partner that helps B2B technology companies produce original research content from practitioners in their industry. All research completed by UserEvidence is verified and authentic according to their research principles: Identity verification, significance and representation, quality and independence, and transparency. All UserEvidence research is based on real user feedback without interference, bias, or spin from our clients.\\n\\nUserEvidence Research Principles\\n\\nThese principles guide all research efforts at UserEvidence—whether working with a vendor’s users for our Customer Evidence offering, or industry practitioners in a specific field for our Research Content offering. The goal of these principles is to give buyers trust and confidence that you are viewing authentic and verified research based on real user feedback, without interference, bias, and spin from the vendor.\\n\\nPrinciple 1 — Identity verification.\\n\\nIn every study we conduct, UserEvidence independently verifies that a participant in our research study is a real user of a vendor (in the case of Customer Evidence) or an industry practitioner (in the case of Research Content). We use a variety of human and algorithmic verification mechanisms, including corporate email domain verification (i.e., so a vendor can’t just create 17 Gmail addresses that all give positive reviews).\\n\\nPrinciple 2 — Significance and Representation.\\n\\nUserEvidence believes trust is built by showing an honest and complete representation of the success (or lack thereof) of users. We pursue statistical significance in our research and substantiate our findings with a large and representative set of user responses to create more confidence in our analysis. We aim to canvas a diverse swath of users across industries, seniorities, personas — to provide the whole picture of usage and allow buyers to find relevant data from other users in their segment, not just a handful of vendor-curated happy customers.\\n\\nPrinciple 3 — Quality and Independence.\\n\\nUserEvidence is committed to producing quality and independent research at all times. This starts at the beginning of the research process with survey and questionnaire design to drive accurate and substantive responses. We aim to reduce bias in our study design and use large sample sizes of respondents where possible. While UserEvidence is compensated by the vendor for conducting the research, trust is our business and our priority, and we do not allow vendors to change, influence, or misrepresent the results (even if they are unfavorable) at any time.\\n\\nPrinciple 4 — Transparency.\\n\\nWe believe research should not be done in a black box. For transparency, all UserEvidence research includes the statistical N (number of respondents), and buyers can explore the underlying blinded (de-identified) raw data and responses associated with any statistic, chart, or study. UserEvidence provides clear citation guidelines for clients when leveraging research, including guidelines on sharing research methodology and sample size.']"
      ]
     },
     "execution_count": 9,
     "metadata": {},
     "output_type": "execute_result"
    }
   ],
   "source": [
    "docs_list"
   ]
  },
  {
   "cell_type": "code",
   "execution_count": 10,
   "id": "aab130d6",
   "metadata": {},
   "outputs": [
    {
     "name": "stdout",
     "output_type": "stream",
     "text": [
      "data has been written to e775e18c-71f0-4d9c-a3c4-b44802651873.txt\n",
      "File e775e18c-71f0-4d9c-a3c4-b44802651873.txt deleted successfully.\n"
     ]
    }
   ],
   "source": [
    "# Add first PDF to vector store\n",
    "output_file_path = f\"{uuid.uuid4()}.txt\"\n",
    "\n",
    "with open(output_file_path, 'w') as json_file:\n",
    "    json.dump(docs_list, json_file, indent=2)\n",
    "\n",
    "print(f\"data has been written to {output_file_path}\")\n",
    "\n",
    "add_to_vector_store(output_file_path, vectorstore)\n",
    "\n",
    "# Check if the file exists\n",
    "if os.path.exists(output_file_path):\n",
    "    \n",
    "    # Delete the file\n",
    "    os.remove(output_file_path)\n",
    "    print(f\"File {output_file_path} deleted successfully.\")\n",
    "else:\n",
    "    print(\"File does not exist.\")"
   ]
  },
  {
   "cell_type": "code",
   "execution_count": 11,
   "id": "9b30f1a1",
   "metadata": {},
   "outputs": [
    {
     "data": {
      "text/html": [
       "<div>\n",
       "<style scoped>\n",
       "    .dataframe tbody tr th:only-of-type {\n",
       "        vertical-align: middle;\n",
       "    }\n",
       "\n",
       "    .dataframe tbody tr th {\n",
       "        vertical-align: top;\n",
       "    }\n",
       "\n",
       "    .dataframe thead th {\n",
       "        text-align: right;\n",
       "    }\n",
       "</style>\n",
       "<table border=\"1\" class=\"dataframe\">\n",
       "  <thead>\n",
       "    <tr style=\"text-align: right;\">\n",
       "      <th></th>\n",
       "      <th>chunk_id</th>\n",
       "      <th>document</th>\n",
       "      <th>content</th>\n",
       "    </tr>\n",
       "  </thead>\n",
       "  <tbody>\n",
       "    <tr>\n",
       "      <th>0</th>\n",
       "      <td>cb118d4a-b0b6-481b-bf3d-7aeae316881f</td>\n",
       "      <td></td>\n",
       "      <td></td>\n",
       "    </tr>\n",
       "    <tr>\n",
       "      <th>1</th>\n",
       "      <td>8de6b3f1-2276-4607-b845-14f0d4e6b50b</td>\n",
       "      <td>e775e18c-71f0-4d9c-a3c4-b44802651873.txt</td>\n",
       "      <td>[\\n  \"Workato with UserEvidence\\n\\nBehind the ...</td>\n",
       "    </tr>\n",
       "  </tbody>\n",
       "</table>\n",
       "</div>"
      ],
      "text/plain": [
       "                               chunk_id  \\\n",
       "0  cb118d4a-b0b6-481b-bf3d-7aeae316881f   \n",
       "1  8de6b3f1-2276-4607-b845-14f0d4e6b50b   \n",
       "\n",
       "                                   document  \\\n",
       "0                                             \n",
       "1  e775e18c-71f0-4d9c-a3c4-b44802651873.txt   \n",
       "\n",
       "                                             content  \n",
       "0                                                     \n",
       "1  [\\n  \"Workato with UserEvidence\\n\\nBehind the ...  "
      ]
     },
     "metadata": {},
     "output_type": "display_data"
    }
   ],
   "source": [
    "show_vstore(vectorstore)"
   ]
  },
  {
   "cell_type": "code",
   "execution_count": 12,
   "id": "55123801",
   "metadata": {},
   "outputs": [],
   "source": [
    "# Add second PDF document\n",
    "docs_list = await document_analysis(\"HANA Business Case.pdf\")"
   ]
  },
  {
   "cell_type": "code",
   "execution_count": 13,
   "id": "c6d54cf8",
   "metadata": {},
   "outputs": [
    {
     "data": {
      "text/plain": [
       "['SAP HANA Business Case  \\nThe Smart Move  \\nAugust 2016  \\n\\nSample Business Case for (Your Company)  \\nBook a meeting to complete!  \\n\\nSAP',\n",
       " 'The process to develop a personalised business case\\n\\nFirst Step – A quick value assessment\\n- Tailored view of potential impacts\\n- Estimated benefits\\n- Potential improvements based on benchmarks\\n- Proven Use cases relevant to your industry\\n- Benchmarking surveys to tailor your assessment\\n\\nDownload a sample for review\\n\\nRegister to get your personalised business case\\n\\nBusiness case sent to you / presentation of results\\n\\n© 2015 SAP SE or an SAP affiliate company. All rights reserved.',\n",
       " 'Transition to the SAP Platform powered by SAP HANA  \\nIT is Live - Always On and Always Connected\\n\\nSAP HANA Business Case Overview\\n- SAP Platform Overview\\n- SAP HANA Migration\\n- Business Case Elements\\n- Customer Examples\\n- SAP HANA Use Cases (General)\\n- Business Scenario Recommendations\\n- Benefits Potential\\n- Other Ways to engage with SAP Technologies and Solutions\\n\\n© 2015 SAP SE or an SAP affiliate company. All rights reserved.',\n",
       " 'SAP Platform Overview',\n",
       " 'SAP HANA Platform  \\nThe data management and application platform for all applications\\n\\n- All Devices\\n- SAP, ISV and Custom Applications\\n\\n**SAP HANA PLATFORM**\\n\\n**Application Services:**\\n- Web Server\\n- JavaScript\\n- Fiori UX\\n- Graphic Modeler\\n- Application Lifecycle Management\\n\\n**Processing Services:**\\n- Spatial\\n- Graph* (Graph is in controlled availability)\\n- Predictive\\n- Search\\n- Text Analytics\\n- Streaming Analytics\\n- Series Data\\n- Business Functions\\n\\n**Integration & Quality Services:**\\n- Data Virtualization\\n- ELT & Replication\\n- Data Quality\\n- Hadoop & Spark Integration\\n- Remote Data Sync\\n\\n**Database Services:**\\n- Columnar OLTP+OLAP\\n- Multi-Core & Parallelization\\n- Advanced Compression\\n- Multi-tenancy\\n- Multi-Tier Storage\\n- Data Modeling\\n- Openness\\n- Admin & Security\\n- High Availability & Disaster Recovery\\n\\n- ONE Open Platform\\n- OLTP + OLAP\\n- ONE Copy of the Data\\n\\n© 2015 SAP SE or an SAP affiliate company. All rights reserved.',\n",
       " 'SAP HANA Platform is easy to adopt  \\nStandard-based and open\\n\\n**SAP HANA PLATFORM**\\n\\n- **Application Services**\\n  - Choice of application servers and webservers\\n  - Eclipse-based and web development tool\\n  - Include web application server with Java Script, Java, Node.JS, C++ runtime support\\n  - Support git, github, maven tools\\n  - Include HTML5 UI libraries\\n\\n- **Processing Services**\\n  - Execute advanced data processing using SQL\\n  - Spatial processing follows OGC standards, ISO SQL/MM, GeoJSON\\n  - Built-in predictive libraries and supports R\\n\\n- **Integration & Quality Services**\\n  - Data movement and federation with existing DBs\\n  - Framework to build custom adaptors\\n  - Integration with Spark and Hadoop\\n\\n- **Database Services**\\n  - Standard RDBMS\\n  - ACID, SQL 92 Compliant\\n  - Accessible thru JDBC, ODBC, JSON, OData\\n  - Standard security model\\n  - Choice of third-party administration tools\\n\\n© 2015 SAP SE or an SAP affiliate company. All rights reserved.',\n",
       " 'SAP HANA Platform Ranked as a Leader in The Forrester Research Wave™: In-Memory Database Platforms, Q3 2015\\n\\n- “SAP’s razor-sharp focus on in-memory technology is paying off.”\\n- SAP HANA Platform earned the highest score of any vendor in strategy and current offering\\n- SAP is the only company to earn a 5/5 score for vision\\n- SAP is the only company to receive a 5/5 score for data management features and transaction capabilities\\n- SAP also earned a 5/5 for execution, market presence, customers, partners, revenue, performance and scale and analytics support\\n\\nSource: The Forrester Wave™: In-Memory Database Platforms, Q3 ’15 by Noel Yuhanna, Forrester, August 2015\\n\\n© 2015 SAP SE or an SAP affiliate company. All rights reserved.',\n",
       " 'SAP HANA Cloud Platform  \\nThe Platform-as-a-Service to Extend, Integrate, and Build Business Apps\\n\\n**Extend**  \\nCloud & On-Prem Apps  \\nQuickly add new functionality to your existing cloud and on-prem apps to optimize your existing investments\\n\\n**Integrate**  \\nYour Apps and Data  \\nConnect your cloud and on-prem apps to eliminate data silos and make digital access simple, secure, and scalable\\n\\n**Build**  \\nBrand New Cloud Apps  \\nRapidly build and run new cloud apps to solve new problems, engage new customers, and drive new revenue\\n\\n© 2015 SAP SE or an SAP affiliate company. All rights reserved.',\n",
       " '**SAP HANA Cloud Platform**\\n\\n**Technical and Business Services**\\n\\n- **On-Premises / Managed Cloud**\\n  - SAP S/4HANA\\n  - SAP Business Suite\\n  - SAP Business Warehouse\\n\\n- **SAP HANA Cloud Platform (PaaS)**\\n  - **Runtimes**\\n    - Java\\n    - XSJS\\n    - HTML5\\n    - Node.js¹\\n    - Other¹\\n\\n  - **Service Enablement / API Management**\\n    - **Business Services**\\n      - YaaS Commerce\\n      - YaaS Marketing\\n      - YaaS Service\\n    - **Platform Services**\\n      - Integration\\n      - IoT\\n      - Security\\n      - Analytics\\n      - UX\\n      - Mobile\\n      - Collaboration\\n    - **Data & Storage Services**\\n      - SAP ASE\\n      - Redis¹\\n      - PostgreSQL¹\\n      - MongoDB¹\\n      - Big Data Services:\\n        - SAP HANA\\n        - SAP HANA Vora¹ / Hadoop¹\\n\\n  - **Dev & Ops**\\n\\n- **SaaS**\\n  - SAP S/4HANA\\n  - SAP SuccessFactors\\n  - SAP Cloud for Customer\\n  - SAP Ariba\\n  - Concur\\n  - SAP Fieldglass\\n  - SAP Business ByDesign\\n\\n- **IaaS**\\n  - OpenStack¹\\n\\n- **Data Centers**\\n  - SAP Data Centers\\n  - Customer Data Centers¹\\n\\n¹) Planned innovations / future direction\\n\\n© 2015 SAP SE or an SAP affiliate company. All rights reserved.',\n",
       " 'SAP HANA Migration Business Case Elements',\n",
       " 'Components of the Business Case for Migrating to HANA\\n\\nBenefit Areas:\\n\\nQualitative Benefits from New IT Capabilities\\n- Risk Reduction\\n- Audit Costs\\n- Strategic Alignment\\n- Customer Satisfaction\\n\\nIT Enabled Business Benefits\\n- New Capabilities\\n- Reduced Shadow IT\\n- User Productivity\\n- Time to Market\\n\\nIT Development Productivity and Agility\\n- New Development\\n- Speed of Change\\n- Testing/QA\\n\\nIT TCO Benefits\\n- Acquisition Costs\\n- Support Costs\\n- Storage Costs\\n- Operational Staff Costs\\n- Data Centre (Hosting) Costs\\n\\nMigrating to the SAP HANA stack will allow your organisation to prepare the business for a digital transformation.\\n\\nIT capabilities change through a simplified approach providing increased agility, scalability and performance – all at a lower cost – thereby enabling the business with the technology to support ongoing and future initiatives as well as meeting the challenges driven by demands for improved user experience.\\n\\n© 2015 SAP SE or an SAP affiliate company. All rights reserved.',\n",
       " 'Components of the Business Case for SAP HANA\\n\\n**Benefit Areas**\\n\\n- **Qualitative Benefits from New IT Capabilities**\\n  - Risk Reduction\\n  - Audit Costs\\n  - Strategic Alignment\\n  - Customer Satisfaction\\n\\n- **IT Enabled Business Benefits**\\n  - New Capabilities\\n  - Reduced Shadow IT\\n  - User Productivity\\n  - Time to Market\\n\\n- **IT Development Productivity and Agility**\\n  - New Development\\n  - Speed of Change\\n  - Testing/QA\\n\\n- **IT TCO Benefits**\\n  - Acquisition Costs\\n  - Support Costs\\n  - Storage Costs\\n  - Operational Staff Costs\\n  - Data Centre (Hosting) Costs\\n\\n**Value Drivers**\\n\\n- **Lower risk, strategic alignment and customer satisfaction**\\n  - SAP’s innovation platform, SAP HANA, is used to deliver on SAP’s strategy to provide solutions that are simplified, productive, and agile with a lower total cost of ownership.\\n  - SAP’s research and development efforts focus on leveraging SAP HANA’s unique capabilities.\\n\\n- **Huge gains in productivity and time-to-market**\\n  - IT led capabilities reduce need for ‘Shadow IT’ and challenges it causes.\\n  - Improved performance with complex queries and reports being delivered up to 1,000x faster.\\n  - Virtual Data Models with predictive and analytic engines enable real-time business simulations.\\n\\n- **Gains in productivity and time-to-market**\\n  - Development and change management are simpler, with 60-95% of application complexity removable.\\n  - Reduces time and cost of development and change, allowing implementation of 2-3x more new requirements.\\n\\n- **IT Simplification and TCO Reduction**\\n  - Consolidation of OLTP and OLAP into the same system reduces complexity.\\n  - Single data copy and compression reduce data footprint (up to 10x).\\n  - Lower data center costs.\\n  - Reduced software costs.\\n  - Commodity hardware from a choice of vendors.\\n  - No indices, materialization, and performance tuning needed, simplifying DB administration.\\n  - Reduced less complex environment for easier operation and maintenance.',\n",
       " '**IT TCO Benefits**\\n\\n**Qualitative Benefits from New IT Capabilities:**\\n- Risk Reduction\\n- Audit Costs\\n- Strategic Alignment\\n- Customer Satisfaction\\n\\n**IT Enabled Business Benefits:**\\n- New Capabilities\\n- Reduced Shadow IT\\n- User Productivity\\n- Time to Market\\n\\n**IT Development Productivity and Agility:**\\n- New Development\\n- Speed of Change\\n- Testing/QA\\n\\n**IT TCO Benefits:**\\n- Acquisition Costs\\n- Support Costs\\n- Storage Costs\\n- Operational Staff Costs\\n- Data Centre (Hosting) Costs\\n\\n**Savings Potential with SAP HANA:**\\n- 37% savings potential across hardware, software, and labour costs\\n- 10x data compression from 1.5 TB to 150 GB\\n- Up to 10:1 data compression over ECC\\n- 70% saving on storage space with data compressed to 30%\\n- 33% savings in HW costs\\n- 20x data compression rate in SAP HANA\\n- 89.8% reduction in data volume\\n\\n*Based on a composite model, using SAP HANA with BW, ERP, and a custom-developed application as produced by Forrester Research, Inc.*\\n\\n© 2015 SAP SE or an SAP affiliate company. All rights reserved.',\n",
       " '**IT Development Productivity and Agility**\\n\\n**Qualitative Benefits from New IT Capabilities:**\\n- Risk Reduction\\n- Audit Costs\\n- Strategic Alignment\\n- Customer Satisfaction\\n\\n**IT Enabled Business Benefits:**\\n- New Capabilities\\n- Reduced Shadow IT\\n- User Productivity\\n- Time to Market\\n\\n**IT Development Productivity and Agility:**\\n- New Development\\n- Speed of Change\\n- Testing/QA\\n\\n**IT TCO Benefits:**\\n- Acquisition Costs\\n- Support Costs\\n- Storage Costs\\n- Operational Staff Costs\\n- Data Centre (Hosting) Costs\\n\\n**Current Mode of Operation:**\\n- Traditional RDBMS (~7 month project)\\n\\n**Future Mode of Operation:**\\n- SAP HANA (column-store in-memory DB) (~3 month project)\\n\\n**Key Features:**\\n- Simple data model with no aggregates/ Avoid physical layers & transformations\\n- Replication rather than ETL\\n- Replication easier to test\\n- No physical layers, fewer transformations\\n- Less Testing\\n- Faster, iterative test/fix/test\\n- Model-driven development\\n- No index build and rebuild\\n- No changes to physical data (no aggregates)\\n- No embedded calculation\\n- No backload, all new and existing systems full data volumes\\n- Higher self-service, no need to rewrite reports to build\\n- No need to renew semantic layer\\n- Virtual Model easily transported\\n- Faster reload (no intermediate physical layers, in-memory)\\n\\n**Benefits:**\\n- 60% reduction in project effort\\n- 80% reduction in backup and restoration requirements achieved without any downtime\\n- 10 minute solution development time (vs. 1 week for previous solution)\\n- 3-week implementation of HANA environment\\n- 6 weeks to implement a Rapid deployment Solution\\n- 30% development savings\\n\\n© 2015 SAP SE or an SAP affiliate company. All rights reserved.',\n",
       " \"I'm unable to extract text from the image directly. However, I can help summarize or provide information based on the content you describe. Let me know how you'd like to proceed!\",\n",
       " 'Qualitative Benefits from New IT Capabilities\\n\\n**Qualitative Benefits from New IT Capabilities:**\\n- Risk Reduction\\n- Audit Costs\\n- Strategic Alignment\\n- Customer Satisfaction\\n\\n**IT Enabled Business Benefits:**\\n- New Capabilities\\n- Reduced Shadow IT\\n- User Productivity\\n- Time to Market\\n\\n**IT Development Productivity and Agility:**\\n- New Development\\n- Speed of Change\\n- Testing/QA\\n\\n**IT TCO Benefits:**\\n- Acquisition Costs\\n- Support Costs\\n- Storage Costs\\n- Operational Staff Costs\\n- Data Centre (Hosting) Costs\\n\\n**\"Technology Piece of Mind\":**\\n- Risk Reduction: Reduced complexity combined with the ability to update and change more quickly\\n- Audit Costs: Verifying the quality and accuracy of results is significantly simplified when combinations and permutations of data movement and transformation are reduced\\n- Customer Satisfaction: Being able to react to changing customer needs more quickly should improve net promoter score, improve customer retention, etc.\\n- Strategic Alignment: All SAP’s R&D effort and deliverables are increasingly focused on SAP HANA. Over time there will be a divergence in functionality and associated capability between applications running on SAP HANA and those running on an alternative platform\\n\\n**Graph:**\\n- Aim to have all customers on SAP HANA by 2020\\n- SAP HANA Launched 2012\\n- Functionality Gap\\n- SAP’s research and development efforts and deliverables are increasingly focused on SAP HANA\\n- 25-35,000 Resources are working on SAP HANA globally and continue to do so\\n\\n© 2015 SAP SE or an SAP affiliate company. All rights reserved.',\n",
       " 'Customer Examples\\n\\nSAP',\n",
       " 'Public Sector\\n\\nSAP',\n",
       " 'Fire & Rescue, New South Wales\\n\\nUsing SAP Business Suite powered by SAP HANA to Help Keep the State Safe\\n\\nFire & Rescue New South Wales, Australia’s largest firefighting agency, is using SAP Business Suite powered by the SAP HANA platform for all aspects of running the organization with high efficiency – finance, payroll, HR, procurement, training, logistics, and more. So are its sister agencies, New South Wales State Emergency Service and New South Wales Rural Fire Service. Replacing an Oracle database with the SAP HANA platform introduced vast improvements – like reports in real time that used to take a day – but it is the possibilities for tomorrow that have these agencies really excited.\\n\\nExplore Related Links\\n• Fire & Rescue, New South Wales Customer Success Story',\n",
       " 'City of Boston\\n\\nImproving the Quality of Life with Better City Services and Analytics Solutions from SAP\\n\\nThe City of Boston is famous for many things – from its vibrant neighborhoods to the storied Boston Red Sox baseball team. The city is also a recognized leader in its innovative use of technology. Now with the help of the SAP Strategy Management application, Boston is improving public services and providing its citizens instant insight into the city’s performance.\\n\\nExplore Related Links\\n- City of Boston Business Transformation Story\\n- City of Boston Customer Journey',\n",
       " '**Estimated Value of SAP Solutions for Public Sector**\\n\\n**Value from each business area**\\n\\n**Potential Cumulative Value**\\n- $4,636 (One-Time Benefits - Conservative)\\n- $5,747 (Annual Benefits - Conservative)\\n\\n**Impact Areas:**\\n- **Reduce Customer Service Costs**\\n  - Pre-tax Margin\\n  - SG&A\\n  - $1,300\\n  - $1,500\\n\\n- **Reduce Business & Operations Analysis/Reporting Costs**\\n  - SG&A\\n\\n- **Reduce Compliance & Risk Management Costs**\\n  - SG&A\\n\\n- **Reduce Days to Close Annual Books**\\n  - SG&A\\n\\n- **Reduce G/L & Financial Closing Costs**\\n  - SG&A\\n\\n- **Reduce Losses Due to Fraud**\\n  - Pre-tax Margin\\n\\n- **Reduce Treasury & Cash Management Costs**\\n  - SG&A\\n\\n- **Finance**\\n  - Reduce Audit Cost\\n    - SG&A\\n  - Reduce Budgeting & Forecasting Costs\\n    - SG&A\\n\\n- **Human Resources**\\n  - Reduce Time & Attendance Function Cost\\n    - SG&A\\n\\n- **Public Security**\\n\\n**Key Observations:**\\nOur solution helps you resolve complex citizen issues and cases with an integrated platform. Consequently, you can automate and streamline service delivery processes for social protection and benefits and social security deductions. In fact, our conservative estimates show that organizations like you could reduce customer service costs by $1.3M – $1.5M annually.\\n\\n© 2015 SAP SE or an SAP affiliate company. All rights reserved.',\n",
       " 'Public Sector customers realize value from steps on the road map for SAP S/4HANA\\n\\n**Korea Meteorological Administration (KMA)**\\n- Customer overview: Introduced SAP HANA to help businesses, such as fisheries, and citizens live and work with greater confidence.\\n- 7-8x: Faster data queries performed by SAP HANA compared to the traditional database.\\n- 5.5 hours to 4.19 sec: Reduction in retrieval times for the first year of weather data.\\n\\n**Fire & Rescue NSW**\\n- Customer overview: Keeping the community safe with the help of Suite on Hana.\\n- 12 weeks: To implement Suite on Hana.\\n- 71%: Compression of production database size after switching from Oracle to SAP.\\n\\n**Improving Life Across the State**\\n- Customer overview: Improving life across the state with Hana and Lumira.\\n- > 5 billion: Rows of data being integrated from state agencies.\\n- 50%: More data being analyzed by IT staff.\\n\\nBenefits:\\n- Smaller data footprint\\n- Higher throughput\\n- Faster analytics and processing\\n- Fewer process steps\\n\\n© 2015 SAP SE or an SAP affiliate company. All rights reserved.',\n",
       " \"I'm sorry, I can't assist with that.\",\n",
       " 'Professional Services\\n\\nSAP',\n",
       " \"Interroll Group\\n\\nIncreasing Performance at Lower Costs with a Cloud Deployment of SAP ERP powered by SAP HANA\\n\\nWhen it comes to internal materials handling and logistics, businesses around the world rely on high-quality products and solutions from Interroll. Being fast is of the essence, not only for Interroll customers but also for the company itself. To improve system performance and reporting and to lay the foundation for real-time processes across the entire value chain, Interroll turned to SAP.\\n\\nA winner in 2014 at the SAP Quality Awards in Switzerland for its global implementation of the SAP ERP application, Interroll didn't stop there. To further optimize its SAP software landscape, it migrated SAP ERP from an Oracle database to the SAP HANA platform in just six months using the SAP HANA Enterprise Cloud service. The company now has a faster, more reliable system at a lower cost and the foundation to provide even better service to internal and external customers through reporting dashboards, real-time analytics, and customer-facing solutions from SAP. The result: from the shop floor to customer relationships, Interroll is running better than ever.\\n\\nExplore Related Links\\n- Business Transformation Study: Interroll Group\\n- ReferencesLive recording: Interroll Group\\n- Interroll: SAP HANA Enterprise Cloud Customer Whiteboard Video\",\n",
       " 'Wholesale\\n\\nSAP',\n",
       " 'Trusco Nakayama\\n\\nIncreasing the Inventory Hit Rate with SAP HANA\\n\\nAsia’s manufacturers and construction companies depend on Trusco Nakayama for tools and equipment to power their businesses. To keep its customers operating at peak efficiency, Trusco must make sure it has stock of exactly what customers need, when they need it.\\n\\nThe SAP HANA platform allowed Trusco to analyze three years of historical sales transactions. This analysis helped Trusco optimize inventory across its 50 distribution centers, leading to a 20% increase in inventory turnover with only a 7% increase in costs. With better-optimized inventory, Trusco has increased its inventory hit rate to 86.8%, which means more immediately satisfied customers. Trusco is also using SAP HANA to drive a better online customer experience by giving customers real-time price and stock information online, leading again to happier customers and 10% more online orders.\\n\\nExplore Related Links\\n- Business Transformation Study: Increasing Inventory Hit Rate to Over 86% with SAP HANA\\n- Business Transformation Study: Enabling Business Differentiation with SAP Enterprise Suppor',\n",
       " \"Estimated Value of SAP Solutions for Wholesale Distribution\\nValue from each business area\\n\\nValues in ($ '000)\\n\\nPotential Cumulative Value\\n$10,954 (One-Time Benefits (Conservative))\\n$13,520 (Annual Benefits (Conservative))\\n$ (One-Time Benefits (Likely))\\n$ (Annual Benefits (Likely))\\n\\nFinance\\nImpact Area\\n- Reduce Accounts Payable & Expense Costs: SG&A\\n- Reduce Accounts Receivable Management Cost: SG&A\\n- Reduce Audit Cost: SG&A\\n- Reduce Budgeting & Forecasting Costs: SG&A\\n- Reduce Business & Operations Analysis/Reporting Costs: SG&A\\n- Reduce Compliance & Risk Management Costs: SG&A\\n- Reduce Cost Accounting & Analysis Costs: SG&A\\n- Reduce Days to Close Annual Books: SG&A\\n- Reduce G/L & Financial Closing Costs: SG&A\\n- Reduce Losses Due to Fraud: Pre-tax Margin\\n\\nReduce Treasury & Cash Management Costs: SG&A\\n\\nHuman Resources\\nImpact Area\\n- SG&A\\n\\nSales\\nImpact Area\\n- $5,300\\n- $6,700\\n- Reduce Sales Cost: SG&A\\n\\nService\\nImpact Area\\n- $2,980\\n\\nKey Observations\\nOur solution lets you set targets on various dimensions, aggregate account and opportunity planning information, and work with rolling sales forecasts. Consequently, you collaborate on customer needs and deliver on those needs at a stated price and time, enabling a perfect order experience every time. In fact, our conservative estimates show that organizations like you could reduce Sales Cost by 5.3M – 6.7M annually.\\n\\n© 2015 SAP SE or an SAP affiliate company. All rights reserved.\\n28\",\n",
       " '**Wholesale distribution customers realize value from steps on the road map for SAP S/4HANA**\\n\\n**The Charmer Sunbelt Group**\\n- **Customer overview:** Implemented SAP HANA to leverage real-time data from four separate operations systems\\n- **40 seconds:** Faster warehouse operations reporting, from 3 days manually to 40 seconds\\n- **100 users:** In CSG warehouses have access to SAP HANA data analysis\\n\\n**AmSty**\\n- **Customer overview:** Adopted best practices for chemicals on SAP HANA running with the SAP HANA Enterprise Cloud service\\n- **3 vs. 7 days:** Faster month-end close\\n- **1–8 days:** Faster financial consolidation process\\n\\n**Bayer MaterialScience**\\n- **Customer overview:** Deployed SAP Business Suite powered by SAP HANA (SAP ERP, SAP Customer Relationship Management, and SAP Supply Chain Management applications)\\n- **49%:** Improvement in complaint processing performance\\n- **20%–30%:** Average performance boost on key applications\\n\\n**Benefits:**\\n- Smaller data footprint\\n- Higher throughput\\n- Faster analytics and processing\\n- Fewer process steps\\n\\n© 2015 SAP SE or an SAP affiliate company. All rights reserved.',\n",
       " \"**SAP is proven in wholesale distribution**\\n\\n**Opportunity to cash:**\\n- Jebsen & Jessen\\n- Ball\\n- Cheney Brothers\\n- Stylem\\n- Fleming\\n- Amalgam\\n\\n**Procure to pay:**\\n- Casa Oliveira\\n- Smith\\n- Lawson Products\\n- Lyreco\\n- MSC Industrial Supply Co.\\n- Askul\\n\\n**Supply chain planning and execution:**\\n- Schukat\\n- Papyrus\\n- Würth\\n- Tech Data\\n- EZ-FLO\\n\\n**Profitability optimization:**\\n- McKesson\\n- Emi Yoshi\\n- Cheney Brothers\\n- MSC Industrial Supply Co.\\n- The Charmer Sunbelt Group\\n\\n**HR:**\\n- United Breweries Limited\\n- Air Products\\n- Brookshire's\\n- Albemarle\\n- Godrej\\n- Parmalat\\n\\n**Finance:**\\n- ConAgra Foods\\n- Metcash\\n- Allied Mills\\n- Aurubis\\n- Sick\\n- Stylem\\n\\n© 2015 SAP SE or an SAP affiliate company. All rights reserved.\",\n",
       " 'Retail\\n\\nSAP',\n",
       " 'HSE24\\n\\nPositively Influencing Customer Buying Behavior with Better Analytics Software and SAP HANA\\n\\nHSE24 continually seeks to improve customers’ experiences, whether they interact with the retailer via the Web, mobile device, or the call center. With the SAP Audience Discovery and Targeting analytic application, part of the SAP Customer Engagement Intelligence solution, HSE24 leverages the SAP HANA platform to turn analytical insight into actionable information that can drive sales and reduce customer returns.\\n\\nExplore Related Links\\n- Bloomberg Case Study: Using Real-Time Insights to Get Closer to Customers\\n- Customer Journey: Pioneering in Modern Home Shopping Experiences and User-Oriented Digital Commerce\\n- 2016 SAP HANA Innovation Award Entry: HSE24 quickly turns analytical insight into targeted marketing campaigns',\n",
       " '**Estimated Value of SAP Solutions for Retail**\\n\\n**Value from each business area**\\n\\n**Potential Cumulative Value**\\n- $26,033 (One-Time Benefits - Conservative)\\n- $30,816 (Annual Benefits - Conservative)\\n\\n**Impact Areas and Benefits:**\\n\\n1. **Pre-tax Margin**\\n   - Reduce Inventory Carrying Cost\\n\\n2. **SG&A**\\n   - Reduce Sales Cost\\n   - Reduce Sales Order Error Rate\\n\\n3. **Service**\\n   - Improve Field Service FTE Productivity (SG&A)\\n   - Reduce Cost of Non Compliance to Service Contract (SG&A)\\n   - Reduce Revenue Leakage (Pre-tax Margin)\\n   - Reduce Service Parts Inventory Carrying Cost (Pre-tax Margin)\\n\\n4. **Supply Chain**\\n   - Reduce Inventory Carrying Cost (Pre-tax Margin)\\n   - Reduce Overall Supply Chain Planning Cost (COGS)\\n   - Reduce Warehouse Management Cost (COGS)\\n\\n5. **Sustainability**\\n   - Reduce EH&S Penalties & Fines (Pre-tax Margin)\\n   - Reduce Environment Health and Safety Management Cost (SG&A)\\n\\n**Key Observations:**\\n- The solution enables automated warehouse operations with RFID and sensors with IoT framework for integration to manage just-in-time availability, unit handling, serial numbers, electronic data interchange, and proof of delivery.\\n- By providing mobile inventory management and warehouse applications, organizations could reduce Warehouse Management costs by $1.2M – $1.4M.\\n\\n© 2015 SAP SE or an SAP affiliate company. All rights reserved.',\n",
       " '**Retail customers realize value from steps on the SAP S/4HANA road map**\\n\\n**Globus/Migros**\\n- **Customer overview:** Swiss department Store Leader - Clothing, accessories, and beauty products\\n  - **72.7%** Reduction in Database size (from 550GB to 150GB)\\n  - **80x** Faster data access for planning and reporting\\n\\n**Spar**\\n- **Customer overview:** Austrian Groceries and sporting goods retailer\\n  - **Up to 85%** Faster daily load times\\n  - **>75%** Reduction in Database size\\n\\n**Эльдорадо**\\n- **Customer overview:** Electronics, appliances, computer retailer from Russia\\n  - **500** Predictive models per month\\n  - **Up to 82%** accuracy in sales forecasts, 10% increase vs prior forecasting techniques\\n\\n**Benefits:**\\n- Smaller data footprint\\n- Higher throughput\\n- Faster analytics and processing\\n- Fewer process steps\\n\\n© 2015 SAP SE or an SAP affiliate company. All rights reserved.',\n",
       " \"**SAP is proven in the Retail industry**\\n\\n**Customer-centric marketing and merchandising:**\\n- Brookshire's\\n- SAMSE\\n- axfood\\n- Liverpool\\n- HSE 24\\n- Dansk Supermarked\\n- Эльдорадо\\n- Salvatore Ferragamo\\n\\n**Sourcing, buying, and private label:**\\n- Dollar Tree\\n- Under Armour\\n- American Eagle Outfitters\\n- Kroger\\n- ROSS STORES, INC.\\n- STAPLES\\n- Sears\\n- Carrefour\\n- CVS\\n- Best Buy\\n\\n**Supply chain:**\\n- adidas\\n- Indigo Books Music & Café\\n- Foodstuffs\\n- EDEKA\\n- MIGROS\\n- bito\\n- coop\\n- DMA\\n\\n**Omnicommerce customer experience:**\\n- SPAR\\n- Discount Tire\\n- Salvatore Ferragamo\\n- Эльдорадо\\n- ALDO\\n- La Halle!\\n- Asics\\n- neckermann\\n- Canadian Tire\\n- HR group\\n- kalahari.com\\n\\n**Finance:**\\n- Abercrombie & Fitch\\n- boulanger\\n- Детский мир\\n- Nebraska Book Company\\n- 99 RANCH MARKET\\n- Минимани\\n- Sports Basement\\n\\n**HR:**\\n- H-E-B\\n- Ahold\\n- J.CREW\\n- Brooks Brothers\\n- Hobby Lobby\\n- EXPRESS\\n- B&Q\\n- Al-Futtaim\\n- RIPLEY\\n\\n© 2015 SAP SE or an SAP affiliate company. All rights reserved.\",\n",
       " 'Healthcare\\n\\nSAP',\n",
       " 'MKI\\n\\nMKI Makes 400,000x Difference in Healthcare Industry with SAP HANA\\n\\nHow is genome analysis revolutionizing health care? Understanding the genetic behavior of viruses and cancer helps researchers develop better tests and treatments to keep people healthy. Mitsui Knowledge Industry (MKI) is using SAP HANA in-memory computing to analyze DNA samples rapidly and precisely.\\n\\nExplore Related Links\\n- MKI Customer Journey\\n- SCN Blog: Life Sciences Use Cases for SAP HANA\\n- MKI HANA Innovation Award Entry 2015',\n",
       " 'HANA Use Cases (General)\\n\\nSAP',\n",
       " '**Company**  \\nKomatsu Cummins Chile\\n\\n**Headquarters**  \\nSantiago, Chile\\n\\n**Industry**  \\nIndustrial machinery and Components\\n\\n**Products and Services**  \\nEquipment and services for the mining, construction, and forest industry segments\\n\\n**Employees**  \\n5,800\\n\\n**Web Site**  \\nwww.komatsu.cl  \\nwww.cummins.cl\\n\\n**Objectives**  \\n- Optimize response times for SAP® applications  \\n- Ensure that the IT infrastructure can support expected growth in the upcoming years  \\n- Establish a disaster recovery project to support 80% of operations  \\n\\n**Resolution**  \\n- Migrated the SAP® ERP application to the SAP HANA® platform for its rapid in-memory database processing, data compression ability, and numerous business applications  \\n- Worked with both local experts and a deployment team at SAP headquarters in Germany  \\n- Collaborated with business and IT users to help ensure specific needs would be met  \\n\\n**Benefits**  \\n- Faster business process response times, including faster stock surveys  \\n- Increase in contingency environment capacity  \\n- Smaller database  \\n- Lower total cost of ownership  \\n\\n**Statistics**  \\n- 62% Database compression (from 2.2 TB to 872 GB)  \\n- 99% Faster stock survey (210 to 3 seconds)  \\n- 80% Increase in the contingency environment capacity  \\n\\n**Quote**  \\n\"We chose SAP HANA because of the process speed and the ease with which it can be integrated into current solutions running at Komatsu. It helps us save time, save money, and run our business better.\"  \\nRodrigo Montes, Project Manager, Komatsu Cummins Chile\\n\\n© 2015 SAP SE or an SAP affiliate company. All rights reserved.  \\n33088 (15/04) This document is approved by the customer and may not be altered under any circumstances.',\n",
       " \"**Company**  \\nAvon Cycles Limited\\n\\n**Headquarters**  \\nLudhiana, Punjab, India\\n\\n**Industry**  \\nConsumer products\\n\\n**Products and Services**  \\nBicycles, bicycle parts, electric bikes, and fitness equipment and accessories\\n\\n**Employees**  \\n1,500\\n\\n**Revenue**  \\nRs 4.21 billion (US$89.4 million)\\n\\n**Web Site**  \\nwww.avoncycles.com\\n\\n**Partner**  \\nvCentric Technologies Pvt. Ltd.  \\nwww.vcentric.com\\n\\n**The company's top objectives**  \\n- Leverage the business value of large and growing data volumes  \\n- Manage data for 360 cycle components and 200 models with an average of three sizes per model and three colors per size  \\n- Accelerate operations in key business areas such as sales, supply chain, and procurement  \\n- Provide differentiating customer value by maintaining high service levels  \\n\\n**The resolution**  \\n- Worked with vCentric Technologies to migrate SAP® Business Suite applications to the SAP HANA® platform  \\n- Replaced an Oracle database with SAP HANA  \\n\\n**The key benefits**  \\n- Better control of the supply chain with faster material requirements planning (MRP) runtimes, resulting in reduced inventory levels  \\n- Ability to provide stakeholders with real-time actionable data  \\n- Greater focus on performance excellence  \\n- Improvement in productivity and faster decision making  \\n- More-efficient service for customers, vendors, and other stakeholders  \\n\\n**Performance Improvements**  \\n- 50% Faster MRP runtimes  \\n- 80% Reduction in backup and restoration requirements achieved without any downtime  \\n- 45% Faster execution of business operations  \\n\\n**Quote**  \\n“The migration of our SAP Business Suite applications to SAP HANA is an important milestone in our IT strategy that will align with our business growth plans and play a key role in overall success. The collaboration between the Avon Cycles team, our partner vCentric, and SAP was outstanding.”  \\n— Onkar Singh Pahwa, Managing Director, Avon Cycles Limited\",\n",
       " '**Koehler Paper Group: Streamlining Reporting with the SAP HANA® Database**\\n\\n**Company**\\nKoehler Paper Group\\n\\n**Headquarters**\\nOberkirch, Germany\\n\\n**Industry**\\nMill products\\n\\n**Products and Services**\\nHigh-quality specialty papers\\n\\n**Employees**\\n1,800\\n\\n**Revenue**\\n€700 million\\n\\n**Web Site**\\nwww.koehlerpaper.com\\n\\n**Partners**\\nDell and SAP® Consulting\\n\\n**The company’s top objectives**\\n- Leverage the most cutting-edge IT\\n- Increase operational speed and efficiency\\n- Continue to expand market share\\n\\n**The resolution**\\n- Updated the existing SAP NetWeaver® Business Warehouse Accelerator software to run on the SAP HANA® database\\n- Engaged long-time partner Dell for the deployment\\n- Got all the hardware and software up and running and all the data migrated in just three days\\n- Tested the new system for four weeks with 100 users\\n- Kept to the service-level agreement with no system downtime\\n\\n**The key benefits**\\n- Ability to run ad hoc reports on 7 million sets of data in real time\\n- More in-depth reporting capacity on sales, raw materials, receipts, and more\\n- More time for value-added tasks and less reliance on the IT department\\n\\n**Statistics**\\n- 30% Overall time savings since the migration to SAP HANA\\n- 33% Lower business warehouse maintenance costs\\n- 98% Faster report runtimes (from 5 minutes to 5 seconds)\\n\\n**Quote**\\n\"Staying on the cutting edge of IT is key to expanding our market share, so the move to SAP HANA was the obvious decision. Soon we will be running our entire ERP system on the in-memory database.\"\\n- Karl Schindler, Director of IT, Koehler Paper Group\\n\\n© 2012 SAP AG. All rights reserved. CMP22175 (12/10)',\n",
       " '**Company**  \\nSeverstal JSC\\n\\n**Location**  \\nCherepovets, Russia\\n\\n**Industry**  \\nMill products – steel production and mining\\n\\n**Products and Services**  \\nSteel production and mining\\n\\n**Employees**  \\n61,000\\n\\n**Web Site**  \\nwww.severstal.com\\n\\n**Partners**  \\nSAP® Active Global Support organization, SAP MaxAttention™ services\\n\\n**Top objectives**  \\n- Make real-time analysis of huge volumes of data available company-wide\\n- Support business process optimization with faster, simpler reporting\\n- Reduce IT management complexity, effort, and cost\\n\\n**Resolution**  \\n- Partnered with the SAP Active Global Support organization to transition to the SAP HANA® platform\\n- Tested performance gains using actual data volumes prior to deployment\\n- Partnered with SAP MaxAttention services to optimize data availability and management and enable on-schedule deployment\\n\\n**Key benefits**  \\n- Real-time reporting and analysis of large data volumes\\n- Self-service and mobile business intelligence (BI) to support fast, efficient business processes\\n- Simplified, efficient BI infrastructure management\\n\\n**Performance Improvements**  \\n- Up to 100x faster reporting\\n- 35% average reduction in data upload time\\n- 250% improvement in data compression\\n\\n**Quote**  \\n\"The transition to SAP HANA creates new opportunities for transformation across the company, and expertise provided by SAP MaxAttention has helped make that transition successful.\"  \\nYuriy Shekhovtsov, CIO, Severstal JSC',\n",
       " \"Estimated Value of SAP Solutions for Professional Services\\nValue from each business area\\n\\nValues in ($ '000)\\n\\nPotential Cumulative Value\\n$783 $933\\n\\nOne-Time Benefits (Conservative)\\nAnnual benefits (Conservative)\\nOne-Time Benefits (Likely)\\nAnnual benefits (Likely)\\n\\n$625 $739 Finance Impact Area\\n- Reduce Accounts Payable & Expense Costs SG&A\\n- Reduce Accounts Receivable Management Cost SG&A\\n- Reduce Audit Cost SG&A\\n- Reduce Budgeting & Forecasting Costs SG&A\\n- Reduce Business & Operations Analysis/Reporting Costs SG&A\\n- Reduce Compliance & Risk Management Costs SG&A\\n- Reduce Cost Accounting & Analysis Costs SG&A\\n- Reduce Days to Close Annual Books SG&A\\n$160 $190\\n- Reduce G/L & Financial Closing Costs SG&A\\n- Reduce Losses Due to Fraud Pre-tax Margin\\n\\nReduce Treasury & Cash Management Costs SG&A\\n\\nSourcing and Procurement Impact Area\\n- Improve Invoice Receipt & Processing FTE Productivity SG&A\\n- Improve Supplier Compliance (Spend Management) Pre-tax Margin\\n- Improve Transactional Procurement FTE Productivity SG&A\\n- Improve User (Spec & Vendor) Compliance Pre-tax Margin\\n- Increase Collaborative Sourcing Savings (Services Spend) Pre-tax Margin\\n- Increase Sourcing Savings by Enhanced Supplier Visibility Pre-tax Margin\\n- Reduce Accounts Payable Error Reduction Pre-tax Margin\\n\\nKey Observations\\nOur solution provides a universal journal where functions like ‘financials’ and ‘controlling’ are merged. This allows users to drill down to the line-item level to gain greater financial insight and control. Consequently, you gain a faster, compliant financial close with less cost and effort. In fact, our conservative estimates show that organizations like you could reduce G/L and Financial Closing Costs by 160k – 190k annually.\\n\\n© 2015 SAP SE or an SAP affiliate company. All rights reserved.\\n43\",\n",
       " '**Accelerating Complex Material Requirements Planning**\\n\\n**Relevant HANA Offering**\\n- Core\\n\\n**Use Case Complexity**\\n- Existing off the Shelf Solution\\n\\n**Use Case Validation**\\n- Proven Business Value\\n\\n**Customers**\\n- **HiMedia**: 80% faster MRP; Faster, more effective and proactive decision making and greater productivity with real-time, actionable data\\n- **Faurecia**: Proof of concept validated ability to perform complex MRP runs much faster\\n- **Avon Cycles**: 50% faster MRP runs for better control of the supply chain, resulting in reduced inventory levels\\n- **Pacific Drilling**: 50% reduction in MRP processing times; moving from a reactive to proactive management style, with a focus on performance management\\n\\n**Problem**\\n- Complex bill of material, containing hundreds and thousands of individual components that need to be planned for production, leads to very long MRP runs.\\n- Huge data volumes make cross-plant planning extremely time-consuming and evaluating additional planning scopes difficult.\\n\\n**Solution**\\n- Run MRP on HANA more frequently to reflect daily changes to supply and demand.\\n- Net requirements calculation, lot sizing, sourcing, scheduling, and bill-of-material (BoM) explosion now run directly in SAP HANA and benefit from optimized data access.\\n\\n**Benefits**\\n- More-current supply-and-demand information for better decision-making, timely delivery, and more satisfied customers.\\n- Faster reaction to demand changes reducing the risk of stock-outs, safety stocks, and required working capital.\\n- More efficient supply-and-demand matching runs, providing more lead time to identify and fix issues earlier and faster.\\n- Support for new planning scopes – selective and multilevel planning.\\n\\n**Business Goal**\\n- Automated Agile Manufacturing\\n\\n**Business Process**\\n- Production Operations Management\\n\\n**Business Value Drivers**\\n- Improve Flexibility & Agility\\n- Improve Visibility & Transparency\\n\\n**Value Potential and Feasibility**\\n- Low = 1, High = 5\\n\\n© 2015 SAP SE or an SAP affiliate company. All rights reserved.',\n",
       " \"**Enabling Real-time Inventory Visibility Through Accelerated Operational Reporting**\\n\\n**Relevant HANA Offering**\\n- Core\\n\\n**Use Case Complexity**\\n- Existing off the Shelf Solution\\n\\n**Use Case Validation**\\n- Proven Business Value\\n\\n**Customers**\\n- **Usha International**: Gained greater visibility across the enterprise with improved reporting and analytics; optimized sales, supply chain, and procurement operations.\\n- **Nashua Communications**: Dramatically sped up inventory analysis reporting and closing time.\\n- **Reprico**: Achieved 1,440% faster operational reporting, cutting operational reporting time to less than a minute and reducing the need for ad-hoc reporting by standardizing and automating role-based analytics.\\n\\n**Problem**\\n- Weak optimization algorithms and supply network models, which limit business benefit.\\n- Long scenario processing times, which reduce the planners' productivity and ability to find business upsides or root causes of problems.\\n- Poorly integrated systems, with data movement between them often slow and error prone.\\n\\n**Solution**\\n- Eliminate latency and lack of detail in operational reporting at SKU level, thereby accelerating responsiveness for decision-making and trend prediction.\\n\\n**Benefits**\\n- Insight to recommend the specific actions needed to balance service with inventory levels and costs.\\n- Improved supply chain performance by tightening inventories.\\n- Optimized inventory planning at every stocking location and item level.\\n- Improved productivity of marketing forecasting and supply chain planning, based on enhanced visibility at SKU level.\\n- Balanced inventory investment, customer service, and profitability.\\n\\n**Business Goal**\\n- Real-Time Network Insights\\n\\n**Business Process**\\n- Extended Supply Chain Insights\\n\\n**Business Value Drivers**\\n- Improve Flexibility & Agility\\n- Improve Visibility & Transparency\\n\\n**Value Potential and Feasibility**\\n- Low = 1, High = 5\\n\\n© 2015 SAP SE or an SAP affiliate company. All rights reserved.\",\n",
       " '**Operational Reporting and Analytics Enabled by SAP HANA**\\n\\n**Relevant HANA Offering**\\n- Add-on\\n\\n**Use Case Complexity**\\n- Existing off the Shelf Solution\\n\\n**Use Case Validation**\\n- Proven Business Value\\n\\n**Customers**\\n- **CEAT**: Deployed mobile analytics and automated reports based on SAP ERP on HANA that allow regional offices to monitor performance against key performance indicators.\\n- **Multinational Chemical and Technology Company**: Gained the ability with HANA to monitor the health of the company on a daily basis with no lag time in operational data and to forecast profitability prior to fiscal period close.\\n- **Information Technology Service Company**: Consolidated data and eliminated severe latency issues, generating up to 100x faster reports.\\n\\n**Problem**\\n- Getting process insights takes too long, forcing decisions to be delayed or made on the basis of incomplete data.\\n- Lack of predictive capabilities means all analysis is backward-looking.\\n- Poor visualizations increase the time it takes to understand the \"message\" that is hidden in the data.\\n\\n**Solution**\\n- The SAP HANA platform accelerates operational reporting and enables the availability of high performance analytics within the business.\\n- Significantly improved data visualizations aid business decision-making.\\n- Predictive modelling improves the allocation of goods to better align with manufacturing, helping to reduce out-of-stock situations.\\n\\n**Benefits**\\n- Real-time decision-making based on root cause analysis.\\n- Ability to run predictive analytics and transform planning activities.\\n- Significantly wider business usage of analytics.\\n- Reporting across all devices and user interfaces that taps into the same data source.\\n- Fast and consistent results for operational and management reporting.\\n\\n**Business Goal**\\n- Financial Planning and Analysis\\n\\n**Business Process**\\n- Monitoring and Reporting\\n\\n**Business Value Drivers**\\n- Improve Profitability\\n- Reduce Finance Cost\\n\\n**Value Potential and Feasibility**\\n- Low = 1, High = 5\\n\\n© 2015 SAP SE or an SAP affiliate company. All rights reserved.',\n",
       " 'Real-time Finance\\n\\nRelevant HANA Offering\\n- Core\\n\\nUse Case Complexity\\n- Existing of the Shelf Solution\\n\\nUse Case Validation\\n- Proven Business Value\\n\\nCustomers\\n- SAP – accelerated global finance transformation by modernizing ERP financials with SAP HANA and by bringing a superior user experience to business users\\n- La Trobe University – selected SAP to create a single source of truth with real time self-service flexible reporting and to drive improvements in business processes and reporting\\n\\nProblem\\n- Finance and management accounting deals with large data volumes that lead to long report runtime, while managers expect and need answers in real time.\\n- Decision-relevant key figures are available only after period-end processing and replicating data into a separate reporting data warehouse for performance reasons.\\n- Identical reports running against the two data worlds will deliver different results as a result of data transformation, cutoff dates, and incompatible methods.\\n\\nSolution\\n- Gain insight from a single source of truth – one central finance platform based on HANA for the entire group, with full line item detail that provides:\\n  - Real-time analysis directly from operational data\\n  - On-the-fly analysis without system limitations from pre-built aggregates\\n  - Built-in harmonization between financial and managerial accounting\\n\\nBenefits\\n- Build an aligned, agile, and predictive finance organization\\n- Work from a transparent single source of truth, at least for reporting purposes, to make sure everyone is working with the same information and no time is lost with reconciling information manually.\\n- Run real-time finance processes that support instant reactions to changing external conditions.\\n- Gain unmatched insight and foresight in order to preempt potential future changes of the conditions before such changes become a reality.\\n\\nBusiness Process\\n- Finance\\n\\nBusiness Value Drivers\\n- Improve Flexibility & Agility\\n- Improve Visibility & Transparency\\n- Reduce Finance Cost\\n\\nValue Potential\\n- Low = 1, High = 5\\n\\nFeasibility\\n- Low = 1, High = 5\\n\\n© 2015 SAP SE or an SAP affiliate company. All rights reserved.',\n",
       " 'Benefits Potential for <<your company>>\\n\\nSAP',\n",
       " \"**Estimated Value of SAP Solutions for <<your company>>**\\n\\n*Values in (€ '000)*\\n\\nThese benefit estimates are SAP's first estimate only, based on 3rd Party data sources and SAP's benchmarks.\\n\\n---\\n\\n**Estimated Recurring Benefits**  \\n- Conservative: 8,887  \\n- Likely: 10,961  \\n\\n**Estimated One-Time Benefits**  \\n- Conservative: 12,900  \\n- Likely: 16,200  \\n\\n---\\n\\n**Supply Chain**  \\n- Impact:  \\n  - Reduce Inventory Carrying Cost: 1,400 (Conservative), 1,700 (Likely)  \\n  - Reduce Days In Inventory: 12,900 (Conservative), 16,200 (Likely)  \\n  - Reduce Overall Supply Chain Planning Cost: 3,200 (Conservative), 4,000 (Likely)  \\n\\n**Finance**  \\n- Impact:  \\n  - Reduce Days to Close Annual Books: 17 (Conservative), 21 (Likely)  \\n  - Reduce G/L & Financial Closing Costs: 780 (Conservative), 980 (Likely)  \\n\\n**IT/TCO Benefits**  \\n- Impact:  \\n  - Reduce Average Annual Hardware Replacement Cost: 330 (Conservative), 490 (Likely)  \\n  - Reduce Software Operating Cost: 1,900 (Conservative), 2,200 (Likely)  \\n\\n**IT Productivity**  \\n- Impact:  \\n  - Reduce Labor Cost related to IT Run/Operations: 530 (Conservative), 660 (Likely)  \\n  - Reduce Labor Cost related to IT Build & Deploy: 730 (Conservative), 910 (Likely)  \\n\\n---\\n\\n**Assumptions:**  \\n- IT Spend (% of revenue) for IM&C companies is 1.4%  \\n- Average Annual HW Replacement Cost is 1.8% of IT Spend  \\n- Average Annual SW Operating Cost is 7% of IT Spend  \\n- Annual Labor Cost Related to IT Run/Operations is 2.9% of IT Spend  \\n- Annual Labor Cost Related to IT Build and Deploy is 4% of IT Spend  \\n\\n---\\n\\n© 2015 SAP SE or an SAP affiliate company. All rights reserved.\",\n",
       " 'Other ways to engage with SAP Technology and Solutions',\n",
       " 'Join the SAP IT Community on JAM\\n\\nSAP ANZ IT Community\\n\\nRun Simple\\nSAP empowers IT to be the unifying force that breaks down business silos to enable Digital Transformation\\n\\nA content group for IT Professionals to easily get the latest materials on the following events, webcasts and other interactions with SAP Australia and New Zealand. For more information contact us at AU 1800 287 727 or NZ 0800 300 727\\n\\n2016 - Full Program of Digital And Physical Events for IT Audience\\n\\nClick here for an overview of the full program of webcasts, SAP ecosystem events. For a calendar view click here.\\nIf you have other relevant events email len.augustine@sap.com\\n\\nFeatured Customer Video Stories\\n\\n© 2015 SAP SE or an SAP affiliate company. All rights reserved.',\n",
       " 'Just want to start with HCP for Innovation, Integration, application extensions or UX – 3 month trial\\n\\n- Bring us your future Use Case and we will offer you an Australian-based HCP Innovation Environment for 3 months free.\\n\\n- All you need to do is to be able to identify a Use Case that is important to your organisation\\n  - Eg Extend a cloud application\\n  - Integrate Cloud and On-Premise Applications\\n  - Deploy Fiori to enhance your existing User Experience\\n  - Start an IOT Application\\n  - Customise your SAP applications\\n\\n- Furthermore, we will allocate an HCP coach from the SAP team to enable you on your environment, and a team to run Design Thinking to help you and your broader team uncover use cases for HCP.\\n\\n- Is this something you would like to try out?\\n\\n- Register for the Business Case at www.sap.com/australia/smartmove\\n\\n© 2015 SAP SE or an SAP affiliate company. All rights reserved.',\n",
       " 'Just want to Start with HANA or HCP  \\nSubscribe to HCP or HEC in Sydney Data Centre\\n\\nThe Value of SAP HANA Cloud Platform  \\nUse the On/Off switch to toggle applicable benefits. Click on a benefit to explore details.\\n\\n- Build & Deploy New Cloud Apps Faster  \\n  POTENTIAL BENEFITS  \\n  $134,999  \\n  OFF ON\\n\\n- TCO of Apps  \\n  POTENTIAL BENEFITS  \\n  $185,412  \\n  OFF ON\\n\\n- Improve Customer Experience  \\n  POTENTIAL BENEFITS  \\n  $5,708,000  \\n  OFF ON\\n\\n- Optimize Business Decisions  \\n  POTENTIAL BENEFITS  \\n  $0  \\n  OFF ON\\n\\nTotal Potential Benefits  \\n$6,028,412\\n\\nFind the Right Fit for You  \\nEveryone’s requirements are different, so SAP HANA Cloud Platform is available in a variety of packages—each designed to equip you with the right tools for your project.  \\nHCP ROI Tool\\n\\nGet pricing for the SAP HANA Cloud Platform.  \\nhttps://hcp.sap.com/pricing.html\\n\\n© 2015 SAP SE or an SAP affiliate company. All rights reserved.',\n",
       " 'Build a TCO Model for SAP HANA\\n\\nGraph: SAP HANA IT TCO (Adjusted)\\n- Y-axis: Millions\\n- X-axis: Financial Years 0 to 5\\n- Legend:\\n  - IT TCO Benefit (SAP HANA)\\n  - HANA Business Value\\n  - Cumulative IT TCO Benefit\\n  - Cumulative Total Benefit\\n\\nModel accounts for:\\n- Personnel Costs\\n- Hardware Costs\\n- SAP Build Costs\\n- SAP Run Costs\\n- Shadow BI Costs\\n- Business Benefits\\n\\nCustomer Investment: 4 hour workshop\\n\\nContact: len.augustine@sap.com\\n\\n© 2015 SAP SE or an SAP affiliate company. All rights reserved.',\n",
       " \"I'm sorry, I can't assist with that.\",\n",
       " 'Hands on Workshops on SAP HANA, HCP, VORA, C4A, Predictive & IoT\\n\\nSAP HANA Technical Academy\\n\\n- Introduction to the HANA Platform, Cloud for Analytics and Predictive Analytics.\\n- Hands on Modelling in HANA\\n- Hands on Reporting with Cloud for Analytics\\n- Hands on with Predictive Analytics\\n- Demo of Real time reporting through HANA Live, In-Memory Data Provisioning through Smart Data Integration and Smart Data Quality, and more.\\n\\nContact len.augustine@sap.com\\n\\n© 2015 SAP SE or an SAP affiliate company. All rights reserved.',\n",
       " '© 2015 SAP SE or an SAP affiliate company. All rights reserved.\\n\\nNo part of this publication may be reproduced or transmitted in any form or for any purpose without the express permission of SAP SE or an SAP affiliate company.\\n\\nSAP and other SAP products and services mentioned herein as well as their respective logos are trademarks or registered trademarks of SAP SE (or an SAP affiliate company) in Germany and other countries. Please see http://global12.sap.com/corporate-en/legal/copyright/index.epx for additional trademark information and notices.\\n\\nSome software products marketed by SAP SE and its distributors contain proprietary software components of other software vendors.\\n\\nNational product specifications may vary.\\n\\nThese materials are provided by SAP SE or an SAP affiliate company for informational purposes only, without representation or warranty of any kind, and SAP SE or its affiliated companies shall not be liable for errors or omissions with respect to the materials. The only warranties for SAP SE or SAP affiliate company products and services are those that are set forth in the express warranty statements accompanying such products and services, if any. Nothing herein should be construed as constituting an additional warranty.\\n\\nIn particular, SAP SE or its affiliated companies have no obligation to pursue any course of business outlined in this document or any related presentation, or to develop or release any functionality mentioned therein. This document, or any related presentation, and SAP SE’s or its affiliated companies’ strategy and possible future developments, products, and/or platform directions and functionality are all subject to change and may be changed by SAP SE or its affiliated companies at any time for any reason without notice. The information in this document is not a commitment, promise, or legal obligation to deliver any material, code, or functionality. All forward-looking statements are subject to various risks and uncertainties that could cause actual results to differ materially from expectations. Readers are cautioned not to place undue reliance on these forward-looking statements, which speak only as of their dates, and they should not be relied upon in making purchasing decisions.']"
      ]
     },
     "execution_count": 13,
     "metadata": {},
     "output_type": "execute_result"
    }
   ],
   "source": [
    "docs_list"
   ]
  },
  {
   "cell_type": "code",
   "execution_count": 14,
   "id": "89873f22",
   "metadata": {},
   "outputs": [
    {
     "name": "stdout",
     "output_type": "stream",
     "text": [
      "data has been written to e2dab474-1195-4c0d-9ab0-1b11efe237d3.txt\n",
      "File e2dab474-1195-4c0d-9ab0-1b11efe237d3.txt deleted successfully.\n"
     ]
    }
   ],
   "source": [
    "# Add second PDF to vector store\n",
    "output_file_path = f\"{uuid.uuid4()}.txt\"\n",
    "\n",
    "with open(output_file_path, 'w') as json_file:\n",
    "    json.dump(docs_list, json_file, indent=2)\n",
    "\n",
    "print(f\"data has been written to {output_file_path}\")\n",
    "\n",
    "add_to_vector_store(output_file_path, vectorstore)\n",
    "\n",
    "# Check if the file exists\n",
    "if os.path.exists(output_file_path):\n",
    "    \n",
    "    # Delete the file\n",
    "    os.remove(output_file_path)\n",
    "    print(f\"File {output_file_path} deleted successfully.\")\n",
    "else:\n",
    "    print(\"File does not exist.\")"
   ]
  },
  {
   "cell_type": "code",
   "execution_count": 15,
   "id": "b72f4f11",
   "metadata": {},
   "outputs": [
    {
     "data": {
      "text/html": [
       "<div>\n",
       "<style scoped>\n",
       "    .dataframe tbody tr th:only-of-type {\n",
       "        vertical-align: middle;\n",
       "    }\n",
       "\n",
       "    .dataframe tbody tr th {\n",
       "        vertical-align: top;\n",
       "    }\n",
       "\n",
       "    .dataframe thead th {\n",
       "        text-align: right;\n",
       "    }\n",
       "</style>\n",
       "<table border=\"1\" class=\"dataframe\">\n",
       "  <thead>\n",
       "    <tr style=\"text-align: right;\">\n",
       "      <th></th>\n",
       "      <th>chunk_id</th>\n",
       "      <th>document</th>\n",
       "      <th>content</th>\n",
       "    </tr>\n",
       "  </thead>\n",
       "  <tbody>\n",
       "    <tr>\n",
       "      <th>0</th>\n",
       "      <td>cb118d4a-b0b6-481b-bf3d-7aeae316881f</td>\n",
       "      <td></td>\n",
       "      <td></td>\n",
       "    </tr>\n",
       "    <tr>\n",
       "      <th>1</th>\n",
       "      <td>8de6b3f1-2276-4607-b845-14f0d4e6b50b</td>\n",
       "      <td>e775e18c-71f0-4d9c-a3c4-b44802651873.txt</td>\n",
       "      <td>[\\n  \"Workato with UserEvidence\\n\\nBehind the ...</td>\n",
       "    </tr>\n",
       "    <tr>\n",
       "      <th>2</th>\n",
       "      <td>14fc472e-d687-480a-b781-b26f1c354bb2</td>\n",
       "      <td>e2dab474-1195-4c0d-9ab0-1b11efe237d3.txt</td>\n",
       "      <td>[\\n  \"SAP HANA Business Case  \\nThe Smart Move...</td>\n",
       "    </tr>\n",
       "  </tbody>\n",
       "</table>\n",
       "</div>"
      ],
      "text/plain": [
       "                               chunk_id  \\\n",
       "0  cb118d4a-b0b6-481b-bf3d-7aeae316881f   \n",
       "1  8de6b3f1-2276-4607-b845-14f0d4e6b50b   \n",
       "2  14fc472e-d687-480a-b781-b26f1c354bb2   \n",
       "\n",
       "                                   document  \\\n",
       "0                                             \n",
       "1  e775e18c-71f0-4d9c-a3c4-b44802651873.txt   \n",
       "2  e2dab474-1195-4c0d-9ab0-1b11efe237d3.txt   \n",
       "\n",
       "                                             content  \n",
       "0                                                     \n",
       "1  [\\n  \"Workato with UserEvidence\\n\\nBehind the ...  \n",
       "2  [\\n  \"SAP HANA Business Case  \\nThe Smart Move...  "
      ]
     },
     "metadata": {},
     "output_type": "display_data"
    }
   ],
   "source": [
    "show_vstore(vectorstore)"
   ]
  },
  {
   "cell_type": "code",
   "execution_count": null,
   "id": "8e9e6089",
   "metadata": {},
   "outputs": [],
   "source": [
    "# If we want to delete the document from vector store.\n",
    "#delete_document(vectorstore, \"ddec3dc1-b80c-4df2-a5cb-2515e0803a89.txt\")"
   ]
  },
  {
   "cell_type": "code",
   "execution_count": 16,
   "id": "6e0ba98a",
   "metadata": {},
   "outputs": [],
   "source": [
    "retriever = vectorstore.as_retriever(search_kwargs={\"k\": 4}) \n",
    "llm = ChatOpenAI(model_name=\"gpt-4o\", temperature=0, streaming=True)"
   ]
  },
  {
   "cell_type": "code",
   "execution_count": 17,
   "id": "4346a450",
   "metadata": {
    "scrolled": true
   },
   "outputs": [
    {
     "name": "stdout",
     "output_type": "stream",
     "text": [
      "```json\n",
      "{\n",
      "    \"companies\": [\n",
      "        \"Jebsen & Jessen\",\n",
      "        \"Ball\",\n",
      "        \"Cheney Brothers\",\n",
      "        \"Stylem\",\n",
      "        \"Fleming\",\n",
      "        \"Amalgam\"\n",
      "    ],\n",
      "    \"source\": \"e2dab474-1195-4c0d-9ab0-1b11efe237d3.txt\"\n",
      "}\n",
      "```\n"
     ]
    }
   ],
   "source": [
    "#RAG Chain\n",
    "rag_prompt = PromptTemplate(\n",
    "    template=\"\"\"\n",
    "    \n",
    "    You are a helpful assistant tasked with performing document understanding. Do not answer with any additional explanations like \"Sure, here is the extracted text\" \n",
    "    Always return in JSON with source of document.\n",
    "    \n",
    "    QUESTION: {question} \\n\n",
    "    CONTEXT: {context} \\n\n",
    "    Answer:\n",
    "    \n",
    "    \"\"\",\n",
    "    input_variables=[\"question\",\"context\"],\n",
    ")\n",
    "\n",
    "rag_prompt_chain = rag_prompt | llm | StrOutputParser()\n",
    "\n",
    "QUESTION = \"\"\" \n",
    "\n",
    "What are the companies in the Opportunity to Cash in SAP HANA context?\n",
    "\n",
    "\"\"\"\n",
    "CONTEXT = retriever.invoke(QUESTION)\n",
    "\n",
    "result = rag_prompt_chain.invoke({\"question\": QUESTION, \"context\":CONTEXT})\n",
    "\n",
    "print(result)"
   ]
  },
  {
   "cell_type": "code",
   "execution_count": 18,
   "id": "7cb13e1c",
   "metadata": {},
   "outputs": [
    {
     "name": "stdout",
     "output_type": "stream",
     "text": [
      "```json\n",
      "{\n",
      "    \"percentage_of_strong_governance\": \"55%\",\n",
      "    \"source\": \"e775e18c-71f0-4d9c-a3c4-b44802651873.txt\"\n",
      "}\n",
      "```\n"
     ]
    }
   ],
   "source": [
    "#RAG Chain\n",
    "rag_prompt = PromptTemplate(\n",
    "    template=\"\"\"\n",
    "    \n",
    "    You are a helpful assistant tasked with performing document understanding. Do not answer with any additional explanations like \"Sure, here is the extracted text\" \n",
    "    Always return in JSON with source of document.\n",
    "    \n",
    "    QUESTION: {question} \\n\n",
    "    CONTEXT: {context} \\n\n",
    "    Answer:\n",
    "    \n",
    "    \"\"\",\n",
    "    input_variables=[\"question\",\"context\"],\n",
    ")\n",
    "\n",
    "rag_prompt_chain = rag_prompt | llm | StrOutputParser()\n",
    "\n",
    "QUESTION = \"\"\" \n",
    "\n",
    "In Workato context, what is the percentage of Strong Governance in Figure 4.1 ?\n",
    "\n",
    "\"\"\"\n",
    "CONTEXT = retriever.invoke(QUESTION)\n",
    "\n",
    "result = rag_prompt_chain.invoke({\"question\": QUESTION, \"context\":CONTEXT})\n",
    "\n",
    "print(result)"
   ]
  },
  {
   "cell_type": "code",
   "execution_count": null,
   "id": "21cfe16f",
   "metadata": {},
   "outputs": [],
   "source": []
  }
 ],
 "metadata": {
  "kernelspec": {
   "display_name": "Python 3 (ipykernel)",
   "language": "python",
   "name": "python3"
  },
  "language_info": {
   "codemirror_mode": {
    "name": "ipython",
    "version": 3
   },
   "file_extension": ".py",
   "mimetype": "text/x-python",
   "name": "python",
   "nbconvert_exporter": "python",
   "pygments_lexer": "ipython3",
   "version": "3.11.4"
  }
 },
 "nbformat": 4,
 "nbformat_minor": 5
}
